{
 "cells": [
  {
   "cell_type": "code",
   "execution_count": 3,
   "id": "sweet-knowing",
   "metadata": {},
   "outputs": [],
   "source": [
    "import numpy as np\n",
    "from scipy import stats as st"
   ]
  },
  {
   "cell_type": "raw",
   "id": "blind-northeast",
   "metadata": {},
   "source": [
    "Problem Statement 1:\n",
    "Blood glucose levels for obese patients have a mean of 100 with a standard deviation of\n",
    "15. A researcher thinks that a diet high in raw cornstarch will have a positive effect on\n",
    "blood glucose levels. A sample of 36 patients who have tried the raw cornstarch diet\n",
    "have a mean glucose level of 108. Test the hypothesis that the raw cornstarch had an\n",
    "effect or not."
   ]
  },
  {
   "cell_type": "code",
   "execution_count": 6,
   "id": "operational-subscription",
   "metadata": {},
   "outputs": [
    {
     "name": "stdout",
     "output_type": "stream",
     "text": [
      "p value= 0.13742758758317208\n",
      "there is positive effect\n"
     ]
    }
   ],
   "source": [
    "m = 100\n",
    "ps = 15 #population std deviation\n",
    "n=36\n",
    "ms = 108\n",
    "alpha = 1\n",
    "\n",
    "zt = (ms-m)/(ps/pow(n,0.5))\n",
    "\n",
    "# h0: mean 100\n",
    "# h1: mean not equals 100\n",
    "p=0\n",
    "if zt < 0:\n",
    "    p = 200*st.norm.cdf(zt)\n",
    "else:\n",
    "    p = 200*(1-st.norm.cdf(zt))\n",
    "print('p value=',p)\n",
    "if p > alpha:\n",
    "    print('no positive effect')\n",
    "else:\n",
    "    print('there is positive effect')"
   ]
  },
  {
   "cell_type": "raw",
   "id": "military-connecticut",
   "metadata": {},
   "source": [
    "Problem Statement 2:\n",
    "In one state, 52% of the voters are Republicans, and 48% are Democrats. In a second\n",
    "state, 47% of the voters are Republicans, and 53% are Democrats. Suppose a simple\n",
    "random sample of 100 voters are surveyed from each state.\n",
    "What is the probability that the survey will show a greater percentage of Republican\n",
    "voters in the second state than in the first state?"
   ]
  },
  {
   "cell_type": "code",
   "execution_count": 11,
   "id": "adequate-failing",
   "metadata": {},
   "outputs": [
    {
     "name": "stdout",
     "output_type": "stream",
     "text": [
      "probability that survey show a greater percentage of Republican voters in the second state than in the first statevalue= 23.946399182220013\n"
     ]
    }
   ],
   "source": [
    "n1=100\n",
    "n2=100\n",
    "p1=0.52\n",
    "q1=1-p1\n",
    "p2=0.47\n",
    "q2=1-p2\n",
    "sv=(p1*q1/n1)+(p2*q2/n2)\n",
    "zt=(0-(p1-p2))/pow(sv,0.5)\n",
    "alpha=5\n",
    "p=0\n",
    "#one tailed test\n",
    "if zt < 0:\n",
    "    p = 100*st.norm.cdf(zt)\n",
    "else:\n",
    "    p = 100*(1-st.norm.cdf(zt))\n",
    "print('probability that survey show a greater percentage of Republican \\\n",
    "voters in the second state than in the first statevalue=',p)"
   ]
  },
  {
   "cell_type": "raw",
   "id": "placed-setting",
   "metadata": {},
   "source": [
    " Problem Statement 3:\n",
    "You take the SAT and score 1100. The mean score for the SAT is 1026 and the standard\n",
    "deviation is 209. How well did you score on the test compared to the average test taker?"
   ]
  },
  {
   "cell_type": "code",
   "execution_count": 18,
   "id": "activated-foundation",
   "metadata": {},
   "outputs": [
    {
     "name": "stdout",
     "output_type": "stream",
     "text": [
      "he scored 0.35406698564593303 std deviations above mean \n"
     ]
    }
   ],
   "source": [
    "m = 1026\n",
    "ps = 209 #population std deviation\n",
    "ms = 1100\n",
    "\n",
    "zt = (ms-m)/(ps)\n",
    "\n",
    "p=0\n",
    "p = 100*st.norm.cdf(zt)\n",
    "print('he scored',zt,'std deviations above mean ')"
   ]
  }
 ],
 "metadata": {
  "kernelspec": {
   "display_name": "Python 3",
   "language": "python",
   "name": "python3"
  },
  "language_info": {
   "codemirror_mode": {
    "name": "ipython",
    "version": 3
   },
   "file_extension": ".py",
   "mimetype": "text/x-python",
   "name": "python",
   "nbconvert_exporter": "python",
   "pygments_lexer": "ipython3",
   "version": "3.7.1"
  }
 },
 "nbformat": 4,
 "nbformat_minor": 5
}
