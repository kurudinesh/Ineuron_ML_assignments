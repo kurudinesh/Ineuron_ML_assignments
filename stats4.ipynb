{
 "cells": [
  {
   "cell_type": "raw",
   "id": "serial-gauge",
   "metadata": {},
   "source": [
    "Problem Statement 1:\n",
    "Is gender independent of education level? A random sample of 395 people were\n",
    "surveyed and each person was asked to report the highest education level they\n",
    "obtained. The data that resulted from the survey is summarized in the following table:\n",
    "High School Bachelors Masters Ph.d. Total\n",
    "Female 60 54 46 41 201\n",
    "Male 40 44 53 57 194\n",
    "Total 100 98 99 98 395\n",
    "Question: Are gender and education level dependent at 5% level of significance? In\n",
    "other words, given the data collected above, is there a relationship between the\n",
    "gender of an individual and the level of education that they have obtained?"
   ]
  },
  {
   "cell_type": "code",
   "execution_count": 12,
   "id": "rental-catholic",
   "metadata": {},
   "outputs": [],
   "source": [
    "from scipy.stats import chi2_contingency \n",
    "from scipy import stats as st \n",
    "import numpy as np"
   ]
  },
  {
   "cell_type": "code",
   "execution_count": 7,
   "id": "widespread-difference",
   "metadata": {},
   "outputs": [
    {
     "name": "stdout",
     "output_type": "stream",
     "text": [
      "chi squared= 8.006066246262538\n",
      "p value= 0.045886500891747214\n",
      "dependent\n"
     ]
    }
   ],
   "source": [
    "data = [[60, 54, 46, 41], [40, 44, 53, 57]] \n",
    "stat, p, dof, expected = chi2_contingency(data) \n",
    "print('chi squared=',stat)\n",
    "print('p value=',p)\n",
    "alpha = 0.05\n",
    "if p > alpha:\n",
    "    print('independent')\n",
    "else:\n",
    "    print('dependent')"
   ]
  },
  {
   "cell_type": "raw",
   "id": "initial-briefs",
   "metadata": {},
   "source": [
    "Problem Statement 2:\n",
    "Using the following data, perform a oneway analysis of variance using α=.05. Write\n",
    "up the results in APA format.\n",
    "[Group1: 51, 45, 33, 45, 67]\n",
    "[Group2: 23, 43, 23, 43, 45]\n",
    "[Group3: 56, 76, 74, 87, 56]"
   ]
  },
  {
   "cell_type": "code",
   "execution_count": 9,
   "id": "expired-egyptian",
   "metadata": {},
   "outputs": [
    {
     "name": "stdout",
     "output_type": "stream",
     "text": [
      "F-Statistic=18.964, p=0.002\n",
      "P value of test 2% is less than alpha so reject null hypothesis\n"
     ]
    }
   ],
   "source": [
    "# H0: mean is equal\n",
    "# Ha: At least one of the means is different from the others.\n",
    "Group1=[ 51, 45, 33, 45, 67]\n",
    "Group2=[ 23, 43, 23, 43, 45]\n",
    "Group3=[ 56, 76, 74, 87, 56]\n",
    "F, p = st.f_oneway(Group2,Group3)\n",
    "# Seeing if the overall model is significant\n",
    "print('F-Statistic=%.3f, p=%.3f' % (F, p))\n",
    "print('P value of test 2% is less than alpha so reject null hypothesis')"
   ]
  },
  {
   "cell_type": "raw",
   "id": "headed-northeast",
   "metadata": {},
   "source": [
    "Problem Statement 3:\n",
    "Calculate F Test for given 10, 20, 30, 40, 50 and 5,10,15, 20, 25.\n",
    "For 10, 20, 30, 40, 50:"
   ]
  },
  {
   "cell_type": "code",
   "execution_count": 14,
   "id": "german-recipient",
   "metadata": {},
   "outputs": [
    {
     "data": {
      "text/plain": [
       "(4.0, 0.10399999999999998)"
      ]
     },
     "execution_count": 14,
     "metadata": {},
     "output_type": "execute_result"
    }
   ],
   "source": [
    "#define F-test function\n",
    "def f_test(x, y):\n",
    "    x = np.array(x)\n",
    "    y = np.array(y)\n",
    "    f = np.var(x, ddof=1)/np.var(y, ddof=1) #calculate F test statistic \n",
    "    dfn = x.size-1 #define degrees of freedom numerator \n",
    "    dfd = y.size-1 #define degrees of freedom denominator \n",
    "    p = 1-st.f.cdf(f, dfn, dfd) #find p-value of F test statistic \n",
    "    return f, p\n",
    "\n",
    "#perform F-test\n",
    "x=[10, 20, 30, 40, 50]\n",
    "y=[5,10,15, 20, 25]\n",
    "f_test(x, y)"
   ]
  },
  {
   "cell_type": "code",
   "execution_count": null,
   "id": "stupid-purple",
   "metadata": {},
   "outputs": [],
   "source": []
  }
 ],
 "metadata": {
  "kernelspec": {
   "display_name": "Python 3",
   "language": "python",
   "name": "python3"
  },
  "language_info": {
   "codemirror_mode": {
    "name": "ipython",
    "version": 3
   },
   "file_extension": ".py",
   "mimetype": "text/x-python",
   "name": "python",
   "nbconvert_exporter": "python",
   "pygments_lexer": "ipython3",
   "version": "3.7.1"
  }
 },
 "nbformat": 4,
 "nbformat_minor": 5
}
