{
 "cells": [
  {
   "cell_type": "code",
   "execution_count": 1,
   "id": "renewable-lecture",
   "metadata": {},
   "outputs": [],
   "source": [
    "from bs4 import BeautifulSoup\n",
    "import urllib.request\n",
    "import nltk\n",
    "response = urllib.request.urlopen('http://php.net/')\n",
    "html = response.read()\n",
    "soup = BeautifulSoup(html,\"html5lib\")"
   ]
  },
  {
   "cell_type": "code",
   "execution_count": 11,
   "id": "encouraging-commander",
   "metadata": {},
   "outputs": [],
   "source": [
    "import re\n",
    "\n",
    "text=re.sub('[\\n\\t]+',' ',soup.text)"
   ]
  },
  {
   "cell_type": "code",
   "execution_count": 13,
   "id": "verbal-whale",
   "metadata": {},
   "outputs": [
    {
     "name": "stdout",
     "output_type": "stream",
     "text": [
      "['01', '03', '04', '06', '07', '0beta2', '10', '11', '12', '13', '14', '15', '16', '17', '19', '2001', '2020', '2021', '21', '22', '23', '24', '25', '26', '27', '29', '34', 'about', 'addendum', 'adjust', 'affecting', 'all', 'also', 'always', 'an', 'and', 'announce', 'announcement', 'announces', 'any', 'apache', 'archive', 'are', 'arguments', 'as', 'at', 'attributes', 'audio', 'aug', 'authentication', 'availability', 'available', 'away', 'backward', 'basic', 'be', 'behaviour', 'beta', 'better', 'binaries', 'binary', 'blog', 'bottom', 'box', 'bug', 'but', 'calling', 'can', 'candidate', 'carefully', 'cgi', 'change', 'changelog', 'changes', 'character', 'classes', 'collection', 'comes', 'command', 'compilation', 'complete', 'compression', 'conference', 'conferences', 'connection', 'connections', 'considerations', 'constants', 'constructor', 'consult', 'contact', 'context', 'continues', 'contributors', 'control', 'cookies', 'copyright', 'course', 'cryptography', 'current', 'cycle', 'data', 'database', 'date', 'dealing', 'detailed', 'development', 'do', 'documentation', 'download', 'downloads', 'dtrace', 'during', 'dynamic', 'early', 'eighth', 'eleventh', 'encoding', 'encouraged', 'engine', 'entries', 'error', 'errors', 'especially', 'events', 'everything', 'exceptions', 'explained', 'expressions', 'extensions', 'extra', 'fast', 'features', 'feb', 'fifth', 'file', 'files', 'filesystem', 'finalizing', 'fix', 'flexible', 'focus', 'for', 'formats', 'found', 'from', 'function', 'functions', 'ga', 'garbage', 'general', 'generation', 'generators', 'get', 'getting', 'globals', 'goto', 'group', 'gui', 'guide', 'handling', 'help', 'helping', 'hiding', 'homepage', 'however', 'http', 'human', 'hypertext', 'image', 'immediate', 'improvements', 'in', 'incompatible', 'information', 'installed', 'interfaces', 'introduction', 'involved', 'is', 'issues', 'it', 'item', 'jan', 'jit', 'just', 'keeping', 'keyboard', 'language', 'latest', 'line', 'list', 'look', 'mail', 'major', 'make', 'man', 'manifest', 'manipulation', 'manual', 'many', 'maps', 'marks', 'match', 'mathematical', 'may', 'media', 'menu', 'migration', 'mime', 'module', 'more', 'most', 'much', 'my', 'named', 'namespaces', 'net', 'new', 'news', 'next', 'ninth', 'non', 'normally', 'not', 'notes', 'nov', 'nullsafe', 'numerous', 'objects', 'oct', 'of', 'official_php', 'older', 'on', 'only', 'operator', 'operators', 'opted', 'options', 'or', 'other', 'our', 'outline', 'output', 'page', 'papersdutch', 'parameters', 'persistent', 'php', 'planned', 'planning', 'plans', 'please', 'pleased', 'point', 'policy', 'popular', 'powers', 'pragmatic', 'predefined', 'preprocessor', 'previous', 'privacy', 'process', 'processing', 'production', 'promotion', 'property', 'protocols', 'purpose', 'qa', 'rc', 'rc1', 're', 'read', 'recorded', 'reference', 'references', 'register', 'related', 'release', 'released', 'remote', 'report', 'reporting', 'rough', 'schedule', 'scripting', 'scroll', 'search', 'security', 'sep', 'server', 'services', 'session', 'sessions', 'seventh', 'shortcuts', 'signatures', 'simple', 'site', 'sites', 'sixth', 'so', 'social', 'source', 'special', 'specific', 'specified', 'squaring', 'start', 'started', 'still', 'structures', 'submitted', 'such', 'suited', 'support', 'supported', 'supporters', 'syntax', 'system', 'take', 'team', 'tenth', 'test', 'testing', 'text', 'thank', 'thanks', 'that', 'the', 'these', 'this', 'time', 'to', 'top', 'tracing', 'tutorial', 'two', 'type', 'types', 'union', 'unplanned', 'updated', 'upgrade', 'upgrading', 'uploads', 'us', 'usage', 'use', 'user', 'users', 'using', 'variable', 'variables', 've', 'version', 'visit', 'we', 'weak', 'web', 'websites', 'weeks', 'which', 'wiki', 'will', 'windows', 'with', 'world', 'would', 'wrappers', 'xforms', 'xml', 'you', 'your']\n",
      "[[  4   3   3   1   3   1   3   3   5   3   3   5   1   2   1   1  27   8\n",
      "    1   3   3   3   3   8   4   4   3   5   1   6   1  17   8   6  11  48\n",
      "    8   1  17   8   1   9  16   2   9   6   2   1   2   2  19   8   1   1\n",
      "    2  48   1  10   8  17   1   1   1   1  17   1   1  47  20   8   1   6\n",
      "   17  26   1   2   1   1   2   1   8   1   1   1   1   1   1   1   1   1\n",
      "    1   1   2   1   2   1   1   6   1   2  10   1   3   7   1   1  19   8\n",
      "    1  26  43   1   6   1   8   1   1   1  16   1   1   1   1   1   1   1\n",
      "    2   1   2  16   2   1  11   3   1  18   9   1   1   9   1   1  76   1\n",
      "   47   1   1   1   6   1   4   1   1   1   1   1   2   2   1   1   2   2\n",
      "    8   1   1   7   1   1   1   1  17   1  56   1   9   2   1   2   1  55\n",
      "    8   9   2   3   1   1   1   1   4   1   2  26   1   1   1   8   2   8\n",
      "    2   1   1   1   1   1   1   6   1   2   1   1   1  10   1   2   1   2\n",
      "    1  19  10   9  10   1   1   1  14  11   8   1   1   1  11  86   1   1\n",
      "   39   1   1   1   1   1  16  11  17   2   1  33   1   1   1 170   8   6\n",
      "    1  42   8   1   1   2   1   1   3   1   2   1   1   2   8   1   1   1\n",
      "    1   8   7   1   7   8  17   2   1   1   4  84  18   1   8   9   2   6\n",
      "    1   2   3  11   6   1   3   2   1   1   1   8   1   8   1   1   1   1\n",
      "   42   1   2   2   1   1   1   1   1   1   1   1   1   1   1   1   9   1\n",
      "   25   2  16  15   2   8   2   1 233   8  65   7  52   1   1   1   1   1\n",
      "    2   1   1   6  16  19   1   8   1   8   2  16   2   1   2   1  40  25\n",
      "    8   1   2   1   1   2   8   8  35   4   1   1   1   1   1  16   1]]\n"
     ]
    }
   ],
   "source": [
    "from sklearn.feature_extraction.text import CountVectorizer\n",
    "corpus = [\n",
    "    text\n",
    "]\n",
    "vectorizer = CountVectorizer()\n",
    "X = vectorizer.fit_transform(corpus)\n",
    "print(vectorizer.get_feature_names())\n",
    "\n",
    "print(X.toarray())\n"
   ]
  },
  {
   "cell_type": "code",
   "execution_count": null,
   "id": "worse-heading",
   "metadata": {},
   "outputs": [],
   "source": []
  }
 ],
 "metadata": {
  "kernelspec": {
   "display_name": "Python 3",
   "language": "python",
   "name": "python3"
  },
  "language_info": {
   "codemirror_mode": {
    "name": "ipython",
    "version": 3
   },
   "file_extension": ".py",
   "mimetype": "text/x-python",
   "name": "python",
   "nbconvert_exporter": "python",
   "pygments_lexer": "ipython3",
   "version": "3.7.1"
  }
 },
 "nbformat": 4,
 "nbformat_minor": 5
}
