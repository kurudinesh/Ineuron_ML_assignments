{
 "cells": [
  {
   "cell_type": "markdown",
   "metadata": {},
   "source": [
    "1.1 Write a Python Program(with class concepts) to find the area of the triangle using the below formula. area = (s(s-a)(s-b)(s-c)) * 0.5 Function to take the length of the sides of triangle from user should be defined in the parent class and function to calculate the area should be defined in subclass."
   ]
  },
  {
   "cell_type": "code",
   "execution_count": 9,
   "metadata": {},
   "outputs": [],
   "source": [
    "class Triangle:\n",
    "  def __init__(self):\n",
    "    pass\n",
    "\n",
    "  def setlengths(self):\n",
    "        self.a= float(input('enter len a of triangle:'))\n",
    "        self.b= float(input('enter len b of triangle:'))\n",
    "        self.c= float(input('enter len c of triangle:'))\n",
    "\n",
    "class FindsArea(Triangle):\n",
    "  def __init__(self):\n",
    "    super().setlengths()\n",
    "\n",
    "  def printarea(self):\n",
    "    s=self.a+self.b+self.c\n",
    "    area= pow(s*(s-self.a)*(s-self.b)*(s-self.c),0.5)\n",
    "    \n",
    "    print(\"area=\", area)"
   ]
  },
  {
   "cell_type": "code",
   "execution_count": 10,
   "metadata": {},
   "outputs": [
    {
     "name": "stdout",
     "output_type": "stream",
     "text": [
      "enter len a of triangle:2\n",
      "enter len b of triangle:3\n",
      "enter len c of triangle:4\n",
      "area= 43.474130238568314\n"
     ]
    }
   ],
   "source": [
    "trianglearea=FindsArea()\n",
    "trianglearea.printarea()"
   ]
  },
  {
   "cell_type": "markdown",
   "metadata": {},
   "source": [
    "1.2 Write a function filter_long_words() that takes a list of words and an integer n and returns the list of words that are longer than n."
   ]
  },
  {
   "cell_type": "code",
   "execution_count": 17,
   "metadata": {},
   "outputs": [
    {
     "name": "stdout",
     "output_type": "stream",
     "text": [
      "bnasd\n",
      "asdfasfasdf\n"
     ]
    }
   ],
   "source": [
    "def filter_long_words(words,n):\n",
    "    return filter(lambda x : len(x) >n,words)\n",
    "\n",
    "for w in filter_long_words(['bnasd','asdfasfasdf','sap','bn'],3):\n",
    "    print(w)"
   ]
  },
  {
   "cell_type": "markdown",
   "metadata": {},
   "source": [
    "2.1 Write a Python program using function concept that maps list of words into a list of integers representing the lengths of the corresponding words. Hint: If a list [ ab,cde,erty] is passed on to the python function output should come as [2,3,4] Here 2,3 and 4 are the lengths of the words in the list."
   ]
  },
  {
   "cell_type": "code",
   "execution_count": 21,
   "metadata": {},
   "outputs": [
    {
     "data": {
      "text/plain": [
       "[5, 11, 3, 2]"
      ]
     },
     "execution_count": 21,
     "metadata": {},
     "output_type": "execute_result"
    }
   ],
   "source": [
    "def maptolen(words):\n",
    "    return list(map(len,words))\n",
    "maptolen(['bnasd','asdfasfasdf','sap','bn'])"
   ]
  },
  {
   "cell_type": "markdown",
   "metadata": {},
   "source": [
    "2.2 Write a Python function which takes a character (i.e. a string of length 1) and returns True if it is a vowel, False otherwise."
   ]
  },
  {
   "cell_type": "code",
   "execution_count": 25,
   "metadata": {},
   "outputs": [
    {
     "name": "stdout",
     "output_type": "stream",
     "text": [
      "False\n",
      "True\n"
     ]
    }
   ],
   "source": [
    "def ischar(c):\n",
    "    if c in 'aeiou':\n",
    "        return True\n",
    "    return False\n",
    "print(ischar('b'))\n",
    "print(ischar('u'))"
   ]
  }
 ],
 "metadata": {
  "kernelspec": {
   "display_name": "Python 3",
   "language": "python",
   "name": "python3"
  },
  "language_info": {
   "codemirror_mode": {
    "name": "ipython",
    "version": 3
   },
   "file_extension": ".py",
   "mimetype": "text/x-python",
   "name": "python",
   "nbconvert_exporter": "python",
   "pygments_lexer": "ipython3",
   "version": "3.7.1"
  }
 },
 "nbformat": 4,
 "nbformat_minor": 4
}
