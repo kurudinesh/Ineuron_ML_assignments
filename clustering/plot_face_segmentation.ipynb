{
 "cells": [
  {
   "cell_type": "code",
   "execution_count": 1,
   "metadata": {},
   "outputs": [],
   "source": [
    "%matplotlib inline"
   ]
  },
  {
   "cell_type": "markdown",
   "metadata": {},
   "source": [
    "\n",
    "# Segmenting the picture of a raccoon face in regions\n",
    "\n",
    "\n",
    "This example uses :ref:`spectral_clustering` on a graph created from\n",
    "voxel-to-voxel difference on an image to break this image into multiple\n",
    "partly-homogeneous regions.\n",
    "\n",
    "This procedure (spectral clustering on an image) is an efficient\n",
    "approximate solution for finding normalized graph cuts.\n",
    "\n",
    "There are two options to assign labels:\n",
    "\n",
    "* with 'kmeans' spectral clustering will cluster samples in the embedding space\n",
    "  using a kmeans algorithm\n",
    "* whereas 'discrete' will iteratively search for the closest partition\n",
    "  space to the embedding space.\n"
   ]
  },
  {
   "cell_type": "code",
   "execution_count": null,
   "metadata": {},
   "outputs": [],
   "source": [
    "print(__doc__)\n",
    "\n",
    "# Author: Gael Varoquaux <gael.varoquaux@normalesup.org>, Brian Cheung\n",
    "# License: BSD 3 clause\n",
    "\n",
    "import time\n",
    "\n",
    "import numpy as np\n",
    "import scipy as sp\n",
    "import matplotlib.pyplot as plt\n",
    "\n",
    "from sklearn.feature_extraction import image\n",
    "from sklearn.cluster import spectral_clustering\n",
    "from sklearn.utils.testing import SkipTest\n",
    "from sklearn.utils.fixes import sp_version\n",
    "\n",
    "if sp_version < (0, 12):\n",
    "    raise SkipTest(\"Skipping because SciPy version earlier than 0.12.0 and \"\n",
    "                   \"thus does not include the scipy.misc.face() image.\")\n",
    "\n",
    "\n",
    "# load the raccoon face as a numpy array\n",
    "try:\n",
    "    face = sp.face(gray=True)\n",
    "except AttributeError:\n",
    "    # Newer versions of scipy have face in misc\n",
    "    from scipy import misc\n",
    "    face = misc.face(gray=True)\n",
    "\n",
    "# Resize it to 10% of the original size to speed up the processing\n",
    "face = sp.misc.imresize(face, 0.10) / 255.\n",
    "\n",
    "# Convert the image into a graph with the value of the gradient on the\n",
    "# edges.\n",
    "graph = image.img_to_graph(face)\n",
    "\n",
    "# Take a decreasing function of the gradient: an exponential\n",
    "# The smaller beta is, the more independent the segmentation is of the\n",
    "# actual image. For beta=1, the segmentation is close to a voronoi\n",
    "beta = 5\n",
    "eps = 1e-6\n",
    "graph.data = np.exp(-beta * graph.data / graph.data.std()) + eps\n",
    "\n",
    "# Apply spectral clustering (this step goes much faster if you have pyamg\n",
    "# installed)\n",
    "N_REGIONS = 25"
   ]
  },
  {
   "cell_type": "markdown",
   "metadata": {},
   "source": [
    "Visualize the resulting regions\n"
   ]
  },
  {
   "cell_type": "code",
   "execution_count": null,
   "metadata": {},
   "outputs": [],
   "source": [
    "for assign_labels in ('kmeans', 'discretize'):\n",
    "    t0 = time.time()\n",
    "    labels = spectral_clustering(graph, n_clusters=N_REGIONS,\n",
    "                                 assign_labels=assign_labels, random_state=1)\n",
    "    t1 = time.time()\n",
    "    labels = labels.reshape(face.shape)\n",
    "\n",
    "    plt.figure(figsize=(5, 5))\n",
    "    plt.imshow(face, cmap=plt.cm.gray)\n",
    "    for l in range(N_REGIONS):\n",
    "        plt.contour(labels == l, contours=1,\n",
    "                    colors=[plt.cm.spectral(l / float(N_REGIONS))])\n",
    "    plt.xticks(())\n",
    "    plt.yticks(())\n",
    "    title = 'Spectral clustering: %s, %.2fs' % (assign_labels, (t1 - t0))\n",
    "    print(title)\n",
    "    plt.title(title)\n",
    "plt.show()"
   ]
  }
 ],
 "metadata": {
  "kernelspec": {
   "display_name": "Python 3",
   "language": "python",
   "name": "python3"
  },
  "language_info": {
   "codemirror_mode": {
    "name": "ipython",
    "version": 3
   },
   "file_extension": ".py",
   "mimetype": "text/x-python",
   "name": "python",
   "nbconvert_exporter": "python",
   "pygments_lexer": "ipython3",
   "version": "3.7.1"
  }
 },
 "nbformat": 4,
 "nbformat_minor": 1
}
