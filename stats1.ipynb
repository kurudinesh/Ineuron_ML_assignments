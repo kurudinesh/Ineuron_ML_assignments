{
 "cells": [
  {
   "cell_type": "markdown",
   "id": "emerging-automation",
   "metadata": {},
   "source": [
    "Calculate the mean, median, mode and standard deviation for the problem\n",
    "statements 1& 2.\n",
    "Problem Statement 1:\n",
    "The marks awarded for an assignment set for a Year 8 class of 20 students were as\n",
    "follows:\n",
    "6 7 5 7 7 8 7 6 9 7 4 10 6 8 8 9 5 6 4 8\n",
    "Problem Statement 2:\n",
    "The number of calls from motorists per day for roadside service was recorded for a\n",
    "particular month:\n",
    "28, 122, 217, 130, 120, 86, 80, 90, 140, 120, 70, 40, 145, 113, 90, 68, 174, 194, 170,\n",
    "100, 75, 104, 97, 75,\n",
    "123, 100, 75, 104, 97, 75, 123, 100, 89, 120, 109"
   ]
  },
  {
   "cell_type": "code",
   "execution_count": 1,
   "id": "unnecessary-glance",
   "metadata": {},
   "outputs": [
    {
     "name": "stdout",
     "output_type": "stream",
     "text": [
      "Mean: 6.85\n",
      "Median: 7.0\n",
      "Mode: ModeResult(mode=array([7]), count=array([5]))\n",
      "STD 1.5898113095584647\n",
      "Var: 2.5275000000000003\n"
     ]
    }
   ],
   "source": [
    "# prb 1 sol:\n",
    "import numpy as np\n",
    "from scipy import stats\n",
    "\n",
    "\n",
    "dataset = [6, 7, 5, 7, 7, 8, 7, 6, 9, 7, 4, 10, 6, 8, 8, 9, 5, 6, 4, 8]\n",
    "\n",
    "#mean value\n",
    "mean = np.mean(dataset)\n",
    "#median value\n",
    "median = np.median(dataset)\n",
    "#mode value \n",
    "mode = stats.mode(dataset)\n",
    "\n",
    "std = np.std(dataset)\n",
    "vr = np.var(dataset)\n",
    "\n",
    "print(\"Mean:\", mean)\n",
    "print(\"Median:\", median)\n",
    "print(\"Mode:\", mode)\n",
    "print(\"STD\", std)\n",
    "print(\"Var:\", vr)\n"
   ]
  },
  {
   "cell_type": "code",
   "execution_count": 6,
   "id": "blocked-trick",
   "metadata": {},
   "outputs": [
    {
     "name": "stdout",
     "output_type": "stream",
     "text": [
      "Mean: 107.51428571428572\n",
      "Median: 100.0\n",
      "Mode: ModeResult(mode=array([75]), count=array([4]))\n",
      "STD 38.77287080168403\n",
      "Var: 1503.3355102040816\n"
     ]
    }
   ],
   "source": [
    "# prb 2 sol:\n",
    "dataset = [28, 122, 217, 130, 120, 86, 80, 90, 140, 120, 70, 40, 145, 113, 90, 68, 174, 194, 170, 100, 75, 104, 97, 75, 123, 100, 75, 104, 97, 75, 123, 100, 89, 120, 109]\n",
    "\n",
    "#mean value\n",
    "mean = np.mean(dataset)\n",
    "#median value\n",
    "median = np.median(dataset)\n",
    "#mode value \n",
    "mode = stats.mode(dataset)\n",
    "\n",
    "std = np.std(dataset)\n",
    "vr = np.var(dataset)\n",
    "\n",
    "print(\"Mean:\", mean)\n",
    "print(\"Median:\", median)\n",
    "print(\"Mode:\", mode)\n",
    "print(\"STD\", std)\n",
    "print(\"Var:\", vr)\n",
    "\n"
   ]
  },
  {
   "cell_type": "markdown",
   "id": "collaborative-surprise",
   "metadata": {},
   "source": [
    "Problem Statement 3:\n",
    "The number of times I go to the gym in weekdays, are given below along with its\n",
    "associated probability:\n",
    "x = 0, 1, 2, 3, 4, 5\n",
    "f(x) = 0.09, 0.15, 0.40, 0.25, 0.10, 0.01\n",
    "Calculate the mean no. of workouts in a week. Also evaluate the variance involved in\n",
    "it.\n"
   ]
  },
  {
   "cell_type": "code",
   "execution_count": 13,
   "id": "sixth-norwegian",
   "metadata": {},
   "outputs": [
    {
     "name": "stdout",
     "output_type": "stream",
     "text": [
      "mean= 2.15\n",
      "variance= 1.2275\n"
     ]
    }
   ],
   "source": [
    "\n",
    "x=np.array([ 0, 1, 2, 3, 4, 5])\n",
    "fx=[0.09, 0.15, 0.40, 0.25, 0.10, 0.01]\n",
    "mean = np.average(x, weights=fx)\n",
    "print('mean=',mean)\n",
    "\n",
    "var = np.average((x-mean)**2,weights=fx)\n",
    "print('variance=',var)"
   ]
  },
  {
   "cell_type": "markdown",
   "id": "breeding-termination",
   "metadata": {},
   "source": [
    "Problem Statement 4:\n",
    "Let the continuous random variable D denote the diameter of the hole drilled in an\n",
    "aluminum sheet. The target diameter to be achieved is 12.5mm. Random\n",
    "disturbances in the process often result in inaccuracy.\n",
    "Historical data shows that the distribution of D can be modelled by the PDF (𝑑) =\n",
    "20𝑒−20(𝑑−12.5), 𝑑 ≥ 12.5. If a part with diameter > 12.6 mm needs to be scrapped,\n",
    "what is the proportion of those parts? What is the CDF when the diameter is of 11\n",
    "mm? What is your conclusion regarding the proportion of scraps?"
   ]
  },
  {
   "cell_type": "code",
   "execution_count": 24,
   "id": "capable-covering",
   "metadata": {},
   "outputs": [
    {
     "name": "stdout",
     "output_type": "stream",
     "text": [
      "parts= 0.8646647167633873\n",
      "scrap prop= 0.1353352832366127\n",
      "cdf of 11mm =0\n"
     ]
    }
   ],
   "source": [
    "# Ans: d>12.6 is scraped\n",
    "# proportion of parts: P(12.5<=d<12.6) = 1 - e^(-20(d-12.5)) where d = 12.6 \n",
    "\n",
    "# proportion of scraps: e^(-20(d-12.5)) where d =12.6\n",
    "import math\n",
    "math.exp(1)\n",
    "\n",
    "propparts = 1- math.exp(-20*(0.1))\n",
    "print('parts=',propparts)\n",
    "\n",
    "propscraps = math.exp(-20*(0.1))\n",
    "print('scrap prop=',propscraps)\n",
    "\n",
    "print('cdf of 11mm =0')"
   ]
  },
  {
   "cell_type": "markdown",
   "id": "human-ballet",
   "metadata": {},
   "source": [
    "Problem Statement 5:\n",
    "A company manufactures LED bulbs with a faulty rate of 30%. If I randomly select 6\n",
    "chosen LEDs, what is the probability of having 2 faulty LEDs in my sample?\n",
    "Calculate the average value of this process. Also evaluate the standard deviation\n",
    "associated with it."
   ]
  },
  {
   "cell_type": "code",
   "execution_count": 27,
   "id": "figured-nancy",
   "metadata": {},
   "outputs": [
    {
     "name": "stdout",
     "output_type": "stream",
     "text": [
      "prob of having 2 faulty LEDs= 0.3241349999999999\n",
      "avg= 1.7999999999999998\n",
      "std= 1.1224972160321822\n"
     ]
    }
   ],
   "source": [
    "from scipy.stats import binom \n",
    "# setting the values \n",
    "# of n and p \n",
    "n = 6\n",
    "p = 0.3\n",
    "r=2\n",
    "# obtaining the mean and variance \n",
    "mean, var = binom.stats(n, p) \n",
    "prop = binom.pmf(r,n,p)\n",
    "\n",
    "print(\"prob of having 2 faulty LEDs=\",prop)\n",
    "print(\"avg=\",mean)\n",
    "print(\"std=\",pow(var,0.5))"
   ]
  },
  {
   "cell_type": "markdown",
   "id": "meaningful-settlement",
   "metadata": {},
   "source": [
    "Problem Statement 6:\n",
    "Gaurav and Barakha are both preparing for entrance exams. Gaurav attempts to\n",
    "solve 8 questions per day with a correction rate of 75%, while Barakha averages\n",
    "around 12 questions per day with a correction rate of 45%. What is the probability\n",
    "that each of them will solve 5 questions correctly? What happens in cases of 4 and 6\n",
    "correct solutions? What do you infer from it? What are the two main governing\n",
    "factors affecting their ability to solve questions correctly? Give a pictorial\n",
    "representation of the same to validate your answer."
   ]
  },
  {
   "cell_type": "code",
   "execution_count": 35,
   "id": "disturbed-actress",
   "metadata": {},
   "outputs": [
    {
     "name": "stdout",
     "output_type": "stream",
     "text": [
      "barkha prob to solve  5  questions is 0.22249823843265792\n",
      "Gaurav prob to solve  5  questions is 0.20764160156250022\n",
      "barkha prob to solve  4  questions is 0.16996393213605795\n",
      "Gaurav prob to solve  4  questions is 0.08651733398437506\n",
      "barkha prob to solve  6  questions is 0.21238468214026424\n",
      "Gaurav prob to solve  6  questions is 0.31146240234375017\n",
      "no of attempts per day and correction rate are main factors\n"
     ]
    },
    {
     "data": {
      "image/png": "[encoded data removed]",
      "text/plain": [
       "<Figure size 432x288 with 1 Axes>"
      ]
     },
     "metadata": {
      "needs_background": "light"
     },
     "output_type": "display_data"
    },
    {
     "data": {
      "image/png": "[encoded data removed]",
      "text/plain": [
       "<Figure size 432x288 with 1 Axes>"
      ]
     },
     "metadata": {
      "needs_background": "light"
     },
     "output_type": "display_data"
    }
   ],
   "source": [
    "# Th prob of solving 5 correct:\n",
    "pb = 0.45\n",
    "pg = 0.75\n",
    "r=5\n",
    "barkhaprob = binom.pmf(r,12,pb)\n",
    "gauravprob = binom.pmf(r,8,pg)\n",
    "print('barkha prob to solve ',r,' questions is',barkhaprob)\n",
    "print('Gaurav prob to solve ',r,' questions is',gauravprob)\n",
    "\n",
    "r=4\n",
    "barkhaprob = binom.pmf(r,12,pb)\n",
    "gauravprob = binom.pmf(r,8,pg)\n",
    "print('barkha prob to solve ',r,' questions is',barkhaprob)\n",
    "print('Gaurav prob to solve ',r,' questions is',gauravprob)\n",
    "\n",
    "r=6\n",
    "barkhaprob = binom.pmf(r,12,pb)\n",
    "gauravprob = binom.pmf(r,8,pg)\n",
    "print('barkha prob to solve ',r,' questions is',barkhaprob)\n",
    "print('Gaurav prob to solve ',r,' questions is',gauravprob)\n",
    "\n",
    "print('no of attempts per day and correction rate are main factors')\n",
    "\n",
    "import matplotlib.pyplot as plt \n",
    "n=12\n",
    "# defining list of r values \n",
    "r_values = list(range(n + 1)) \n",
    "# list of pmf values \n",
    "dist = [binom.pmf(r, n, pb) for r in r_values ] \n",
    "# plotting the graph  \n",
    "plt.bar(r_values, dist) \n",
    "plt.show()\n",
    "\n",
    "\n",
    "n=8\n",
    "# defining list of r values \n",
    "r_values = list(range(n + 1)) \n",
    "# list of pmf values \n",
    "dist = [binom.pmf(r, n, pg) for r in r_values ] \n",
    "# plotting the graph  \n",
    "plt.bar(r_values, dist) \n",
    "plt.show()"
   ]
  },
  {
   "cell_type": "markdown",
   "id": "retained-nation",
   "metadata": {},
   "source": [
    "Problem Statement 7:\n",
    "Customers arrive at a rate of 72 per hour to my shop. What is the probability of 𝑘\n",
    "customers arriving in 4 minutes? a) 5 customers, b) not more than 3 customers, c)\n",
    "more than 3 customers. Give a pictorial representation of the same to validate your\n",
    "answer.\n"
   ]
  },
  {
   "cell_type": "code",
   "execution_count": 45,
   "id": "minor-image",
   "metadata": {},
   "outputs": [
    {
     "name": "stdout",
     "output_type": "stream",
     "text": [
      "5  customers= 0.17474768364388296\n",
      "prob for not more than 3 customers= 0.29422991649656405\n",
      "prob for more than 3 cust= 0.705770083503436\n"
     ]
    },
    {
     "data": {
      "image/png": "[encoded data removed]",
      "text/plain": [
       "<Figure size 432x288 with 1 Axes>"
      ]
     },
     "metadata": {
      "needs_background": "light"
     },
     "output_type": "display_data"
    }
   ],
   "source": [
    "#avg rate of arrival(lambda) = 72/60*4 = 4.8\n",
    "\n",
    "# prob of k cust = lambda^ke^-lambda/k!\n",
    "\n",
    "# k=5\n",
    "from scipy.stats import poisson\n",
    "\n",
    "lmda = 4.8\n",
    "k=5\n",
    "print(k,' customers=',poisson.pmf(k,lmda))\n",
    "\n",
    "\n",
    "# not more than 3\n",
    "\n",
    "p3orless =0\n",
    "\n",
    "for i in range(4):\n",
    "    p3orless+=poisson.pmf(i,lmda)\n",
    "print('prob for not more than 3 customers=',p3orless)\n",
    "\n",
    "print('prob for more than 3 cust=',1-p3orless)\n",
    "\n",
    "n=20\n",
    "# defining list of r values \n",
    "r_values = list(range(n + 1)) \n",
    "# list of pmf values \n",
    "dist = [poisson.pmf(r, lmda) for r in r_values ] \n",
    "# plotting the graph  \n",
    "plt.bar(r_values, dist) \n",
    "plt.show()"
   ]
  },
  {
   "cell_type": "markdown",
   "id": "welcome-puzzle",
   "metadata": {},
   "source": [
    "Problem Statement 8:\n",
    "I work as a data analyst in Aeon Learning Pvt. Ltd. After analyzing data, I make\n",
    "reports, where I have the efficiency of entering 77 words per minute with 6 errors per\n",
    "hour. What is the probability that I will commit 2 errors in a 455-word financial report?\n",
    "What happens when the no. of words increases/decreases (in case of 1000 words,\n",
    "255 words)?\n",
    "How is the 𝜆 affected?\n",
    "How does it influence the PMF?\n",
    "Give a pictorial representation of the same to validate your answer."
   ]
  },
  {
   "cell_type": "code",
   "execution_count": 50,
   "id": "gorgeous-identity",
   "metadata": {},
   "outputs": [
    {
     "name": "stdout",
     "output_type": "stream",
     "text": [
      "𝜆= 1540.0\n",
      "prob with  455  words= 9.75111914561374e-233\n",
      "prob with  1000  words= 1.2664104435806793e-49\n",
      "prob with  255  words= 0.0\n",
      "lambda will be same and pmf value increases as page count is increased till mean ie lamda\n"
     ]
    },
    {
     "data": {
      "image/png": "[encoded data removed]",
      "text/plain": [
       "<Figure size 432x288 with 1 Axes>"
      ]
     },
     "metadata": {
      "needs_background": "light"
     },
     "output_type": "display_data"
    }
   ],
   "source": [
    "# mean error\n",
    "𝜆 = 77*60/6*2\n",
    "print('𝜆=',𝜆)\n",
    "\n",
    "r=455\n",
    "p=poisson.pmf(r, 𝜆)\n",
    "print('prob with ',r,' words=',p)\n",
    "\n",
    "r=1000\n",
    "p=poisson.pmf(r, 𝜆)\n",
    "print('prob with ',r,' words=',p)\n",
    "\n",
    "r=255\n",
    "p=poisson.pmf(r, 𝜆)\n",
    "print('prob with ',r,' words=',p)\n",
    "\n",
    "print('lambda will be same and pmf value increases as page count is increased till mean ie lamda')\n",
    "\n",
    "n=2000\n",
    "# defining list of r values \n",
    "r_values = list(range(0,n + 1)) \n",
    "# list of pmf values \n",
    "dist = [poisson.pmf(r, 𝜆) for r in r_values ] \n",
    "# plotting the graph  \n",
    "plt.bar(r_values, dist) \n",
    "plt.show()"
   ]
  },
  {
   "cell_type": "markdown",
   "id": "practical-ethernet",
   "metadata": {},
   "source": [
    "Problem Statement 10:\n",
    "Please compute the following:\n",
    "a) P(Z > 1.26), . P(Z < −0.86), P(Z > −1.37), P(−1.25 < Z < 0.37), . P(Z ≤ −4.6)\n",
    "b) Find the value 𝑧 such that 𝑃(𝑍 > 𝑧) = 0.05\n",
    "c) Find the value of 𝑧 such that 𝑃(−𝑧 < 𝑍 < 𝑧) = 0.99"
   ]
  },
  {
   "cell_type": "code",
   "execution_count": 58,
   "id": "atmospheric-forty",
   "metadata": {},
   "outputs": [
    {
     "name": "stdout",
     "output_type": "stream",
     "text": [
      "P(Z > 1.26)= 0.10383468112130045\n",
      "P(Z < −0.86)= 0.1948945212518084\n",
      "P(Z > −1.37)= 0.914656549178033\n",
      "P(−1.25 < Z < 0.37) 0.5386589811336914\n",
      "P(Z ≤ −4.6) 2.1124547025028537e-06\n",
      "z for 𝑃(𝑍 > 𝑧) = 0.05 is 1.6448536269514722\n",
      "z for 𝑃(−𝑧 < 𝑍 < 𝑧) = 0.99 is 2.5758293035489004\n"
     ]
    }
   ],
   "source": [
    "import scipy.stats as st\n",
    "# st.norm.ppf(.95)\n",
    "print('P(Z > 1.26)=',1-st.norm.cdf(1.26))\n",
    "print('P(Z < −0.86)=',st.norm.cdf(-0.86))\n",
    "print('P(Z > −1.37)=',1-st.norm.cdf(-1.37))\n",
    "print('P(−1.25 < Z < 0.37)',st.norm.cdf(0.37)-st.norm.cdf(-1.25))\n",
    "print('P(Z ≤ −4.6)',st.norm.cdf(-4.6))\n",
    "\n",
    "print('z for 𝑃(𝑍 > 𝑧) = 0.05 is',st.norm.ppf(1-0.05))\n",
    "\n",
    "print('z for 𝑃(−𝑧 < 𝑍 < 𝑧) = 0.99 is',st.norm.ppf(1-0.005))"
   ]
  },
  {
   "cell_type": "markdown",
   "id": "postal-timeline",
   "metadata": {},
   "source": [
    "Problem Statement 11:\n",
    "The current flow in a copper wire follow a normal distribution with a mean of 10 𝑚A\n",
    "and a variance of 4 (𝑚𝐴)2.\n",
    "What is the probability that a current measurement will exceed 13 𝑚𝐴? What is the\n",
    "probability that a current measurement is between 9 and 11mA? Determine the\n",
    "current measurement which has a probability of 0.98.\n",
    "`"
   ]
  },
  {
   "cell_type": "code",
   "execution_count": 62,
   "id": "ultimate-journalism",
   "metadata": {},
   "outputs": [
    {
     "name": "stdout",
     "output_type": "stream",
     "text": [
      "z= 1.5\n",
      "prob of cur >13mA= 0.06680720126885809\n",
      "prob of cur 9-11mA= 0.38292492254802624\n",
      "2.0537489106318225\n",
      "current= 14.107497821263646\n"
     ]
    }
   ],
   "source": [
    "z=(13-10)/2\n",
    "print('z=',z)\n",
    "# What is the probability that a current measurement will exceed 13 𝑚𝐴?\n",
    "print('prob of cur >13mA=',1-st.norm.cdf(z))\n",
    "\n",
    "# What is the probability that a current measurement is between 9 and 11mA?\n",
    "print('prob of cur 9-11mA=',st.norm.cdf(0.5)-st.norm.cdf(-0.5))\n",
    "\n",
    "# Determine the current measurement which has a probability of 0.98. `\n",
    "cz=st.norm.ppf(0.98)\n",
    "print (cz)\n",
    "\n",
    "print('current=',cz*2+10)"
   ]
  },
  {
   "cell_type": "markdown",
   "id": "wound-drain",
   "metadata": {},
   "source": [
    "Problem Statement 12:\n",
    "The shaft in a piston has its diameter normally distributed with a mean of 0.2508 inch\n",
    "and a standard deviation of 0.0005 inch. The specifications of the shaft are 0.2500 ∓\n",
    "0.0015 inch. What proportion of shafts are in sync with the specifications? If the\n",
    "process is centered so that the mean is equal to the target value of 0.2500, what\n",
    "proportion of shafts conform to the new specifications? What is your conclusion from\n",
    "this experiment?"
   ]
  },
  {
   "cell_type": "code",
   "execution_count": 63,
   "id": "indie-alpha",
   "metadata": {},
   "outputs": [
    {
     "name": "stdout",
     "output_type": "stream",
     "text": [
      "prob of shafts in sync= 0.91924122831152\n",
      "prob of shafts in sync after changing center of process= 0.9973002039367398\n"
     ]
    }
   ],
   "source": [
    "delta=0.0015\n",
    "m=0.2508\n",
    "sd=0.0005\n",
    "sc=0.2500\n",
    "l=(sc-delta-m)/sd\n",
    "u=(sc+delta-m)/sd\n",
    "\n",
    "print('prob of shafts in sync=',st.norm.cdf(u)-st.norm.cdf(l))\n",
    "\n",
    "m=0.2500\n",
    "l=(sc-delta-m)/sd\n",
    "u=(sc+delta-m)/sd\n",
    "\n",
    "print('prob of shafts in sync after changing center of process=',st.norm.cdf(u)-st.norm.cdf(l))\n",
    "\n"
   ]
  },
  {
   "cell_type": "markdown",
   "id": "given-philippines",
   "metadata": {},
   "source": [
    "max probibility of shafts will be produced in sync with process if shafts process is centered around specification"
   ]
  }
 ],
 "metadata": {
  "kernelspec": {
   "display_name": "Python 3",
   "language": "python",
   "name": "python3"
  },
  "language_info": {
   "codemirror_mode": {
    "name": "ipython",
    "version": 3
   },
   "file_extension": ".py",
   "mimetype": "text/x-python",
   "name": "python",
   "nbconvert_exporter": "python",
   "pygments_lexer": "ipython3",
   "version": "3.7.1"
  }
 },
 "nbformat": 4,
 "nbformat_minor": 5
}
