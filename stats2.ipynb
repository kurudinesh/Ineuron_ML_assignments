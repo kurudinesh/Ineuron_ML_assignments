{
 "cells": [
  {
   "cell_type": "code",
   "execution_count": 129,
   "id": "precise-spain",
   "metadata": {},
   "outputs": [],
   "source": [
    "import numpy as np\n",
    "import scipy.stats as st\n",
    "from scipy.stats import chi2_contingency "
   ]
  },
  {
   "cell_type": "markdown",
   "id": "stainless-reputation",
   "metadata": {},
   "source": [
    "Problem Statement 1:\n",
    "In each of the following situations, state whether it is a correctly stated hypothesis\n",
    "testing problem and why?\n",
    "1. 𝐻0: 𝜇 = 25, 𝐻1: 𝜇 ≠ 25\n",
    "2. 𝐻0: 𝜎 > 10, 𝐻1: 𝜎 = 10\n",
    "3. 𝐻0: 𝑥 = 50, 𝐻1: 𝑥 ≠ 50\n",
    "4. 𝐻0: 𝑝 = 0.1, 𝐻1: 𝑝 = 0.5\n",
    "5. 𝐻0: 𝑠 = 30, 𝐻1: 𝑠 > 30"
   ]
  },
  {
   "cell_type": "raw",
   "id": "operating-payday",
   "metadata": {},
   "source": [
    "1,3 are correct and others are wrong\n",
    "2 h1 shd be 𝜎 <= 10\n",
    "4 h1 shd be p not equals 0.1\n",
    "5 h1 shd be s not equals 30"
   ]
  },
  {
   "cell_type": "raw",
   "id": "specified-defeat",
   "metadata": {},
   "source": [
    "Problem Statement 2:\n",
    "The college bookstore tells prospective students that the average cost of its\n",
    "textbooks is Rs. 52 with a standard deviation of Rs. 4.50. A group of smart statistics\n",
    "students thinks that the average cost is higher. To test the bookstore’s claim against\n",
    "their alternative, the students will select a random sample of size 100. Assume that\n",
    "the mean from their random sample is Rs. 52.80. Perform a hypothesis test at the\n",
    "5% level of significance and state your decision."
   ]
  },
  {
   "cell_type": "raw",
   "id": "greenhouse-magnitude",
   "metadata": {},
   "source": [
    "population mean = 52 \n",
    "Sample mean = 52.8\n",
    "standard deviation = 4.50\n",
    "Significance level(alpha) = 5% = 0.05\n",
    "Sample size = 100\n",
    "H0:  Mean printing capacity =52\n",
    "H1: Mean printing capacity not equals 52\n",
    "We can clearly see it is two tailed test (left tail).\n",
    "Here, the sample is large with an unknown population variance. Since, we don’t know about the normality of the data, we will use the Z-test (from the table above).\n",
    "We will use the sample variance to calculate the critical value.\n",
    "Standard error (SE) = Sample standard deviation/ (sample size) * 0.5\n",
    "                                  =   4.5 / (100) *0.5 = 0.45\n",
    "Z(test) = (Sample mean - population mean)/ (SE)\n",
    "   = (52.8-52)/0.45 = 1.78\n",
    "\n",
    "Let’s find out the critical values at 5% significance level\n",
    "Z (0.05%) = - 1.96 and 1.96 (since it is two tailed test).\n",
    "We can clearly see that Z(test) falls in acceptance region.\n",
    "Thus, we can not reject the null hypothesis i.e. the manufacturer’s claim at 5% significance level.\n",
    "\n",
    "Using p-value to test the above hypothesis:\n",
    "p-value = 2*P[T<-1.73]   = 7.4%         \n",
    "Here, p-value is more than the significance level of 5%. So, we are right to accept the null hypothesis.\n"
   ]
  },
  {
   "cell_type": "code",
   "execution_count": null,
   "id": "desperate-madagascar",
   "metadata": {},
   "outputs": [],
   "source": [
    "Problem Statement 3:\n",
    "A certain chemical pollutant in the Genesee River has been constant for several\n",
    "years with mean μ = 34 ppm (parts per million) and standard deviation σ = 8 ppm. A\n",
    "group of factory representatives whose companies discharge liquids into the river is\n",
    "now claiming that they have lowered the average with improved filtration devices. A\n",
    "group of environmentalists will test to see if this is true at the 1% level of\n",
    "significance. Assume \\ that their sample of size 50 gives a mean of 32.5 ppm.\n",
    "Perform a hypothesis test at the 1% level of significance and state your decision."
   ]
  },
  {
   "cell_type": "code",
   "execution_count": 25,
   "id": "northern-oxide",
   "metadata": {},
   "outputs": [
    {
     "name": "stdout",
     "output_type": "stream",
     "text": [
      "p value= 18.48975989656002\n",
      "accept null hypothesis\n"
     ]
    }
   ],
   "source": [
    "m = 34\n",
    "ps = 8 #population std deviation\n",
    "n=50\n",
    "ms = 32.5\n",
    "alpha = 1\n",
    "\n",
    "zt = (ms-m)/(ps/pow(n,0.5))\n",
    "\n",
    "# h0: mean =34\n",
    "# h1: mean not equals 34\n",
    "p=0\n",
    "if zt < 0:\n",
    "    p = 200*st.norm.cdf(zt)\n",
    "else:\n",
    "    p = 200*(1-st.norm.cdf(zt))\n",
    "print('p value=',p)\n",
    "if p > alpha:\n",
    "    print('accept null hypothesis')\n",
    "else:\n",
    "    print('reject null hypothesis')\n"
   ]
  },
  {
   "cell_type": "code",
   "execution_count": 30,
   "id": "psychological-advancement",
   "metadata": {},
   "outputs": [
    {
     "data": {
      "text/plain": [
       "-2.575829303548901"
      ]
     },
     "execution_count": 30,
     "metadata": {},
     "output_type": "execute_result"
    }
   ],
   "source": [
    "st.norm.ppf(0.005)"
   ]
  },
  {
   "cell_type": "raw",
   "id": "hungarian-first",
   "metadata": {},
   "source": [
    "Problem Statement 4:\n",
    "Based on population figures and other general information on the U.S. population,\n",
    "suppose it has been estimated that, on average, a family of four in the U.S. spends\n",
    "about $1135 annually on dental expenditures. Suppose further that a regional dental\n",
    "association wants to test to determine if this figure is accurate for their area of\n",
    "country. To test this, 22 families of 4 are randomly selected from the population in\n",
    "that area of the country and a log is kept of the family’s dental expenditure for one\n",
    "year. The resulting data are given below. Assuming, that dental expenditure is\n",
    "normally distributed in the population, use the data and an alpha of 0.05 to test the\n",
    "dental association’s hypothesis.\n"
   ]
  },
  {
   "cell_type": "code",
   "execution_count": 37,
   "id": "traditional-mobility",
   "metadata": {},
   "outputs": [
    {
     "name": "stdout",
     "output_type": "stream",
     "text": [
      "p value= 3.838242412656271  zt= -2.070747228595759\n",
      "reject null hypothesis\n"
     ]
    }
   ],
   "source": [
    "m = 1135\n",
    "x=np.array([1008, 812, 1117, 1323, 1308, 1415, 831, 1021, 1287, 851, 930, 730, 699,\n",
    "872, 913, 944, 954, 987, 1695, 995, 1003, 994])\n",
    "n=len(x)\n",
    "ms = np.mean(x)\n",
    "ss = np.std(x)\n",
    "zt = (ms-m)/(ss/pow(n,0.5))\n",
    "alpha = 5\n",
    "\n",
    "# h0: mean =1135\n",
    "# h1: mean not equals 1135\n",
    "p=0\n",
    "if zt < 0:\n",
    "    p = 200*st.norm.cdf(zt)\n",
    "else:\n",
    "    p = 200*(1-st.norm.cdf(zt))\n",
    "print('p value=',p,' zt=',zt)\n",
    "if p > alpha:\n",
    "    print('accept null hypothesis')\n",
    "else:\n",
    "    print('reject null hypothesis')\n"
   ]
  },
  {
   "cell_type": "raw",
   "id": "described-insulation",
   "metadata": {},
   "source": [
    "Problem Statement 5:\n",
    "In a report prepared by the Economic Research Department of a major bank the\n",
    "Department manager maintains that the average annual family income on Metropolis\n",
    "is $48,432. What do you conclude about the validity of the report if a random sample\n",
    "of 400 families shows and average income of $48,574 with a standard deviation of\n",
    "2000?"
   ]
  },
  {
   "cell_type": "code",
   "execution_count": 43,
   "id": "hidden-malawi",
   "metadata": {},
   "outputs": [
    {
     "name": "stdout",
     "output_type": "stream",
     "text": [
      "p value= 15.560768105309286\n",
      "any value of alpha less than p is valid statement\n"
     ]
    }
   ],
   "source": [
    "m = 48432\n",
    "ss = 2000 #population std deviation\n",
    "n=400\n",
    "ms = 48574\n",
    "zt = (ms-m)/(ss/pow(n,0.5))\n",
    "\n",
    "p=0\n",
    "if zt < 0:\n",
    "    p = 200*st.norm.cdf(zt)\n",
    "else:\n",
    "    p = 200*(1-st.norm.cdf(zt))\n",
    "print('p value=',p)\n",
    "print('any value of alpha less than p is valid statement')"
   ]
  },
  {
   "cell_type": "raw",
   "id": "soviet-affairs",
   "metadata": {},
   "source": [
    "Problem Statement 6:\n",
    "Suppose that in past years the average price per square foot for warehouses in the\n",
    "United States has been $32.28. A national real estate investor wants to determine\n",
    "whether that figure has changed now. The investor hires a researcher who randomly\n",
    "samples 19 warehouses that are for sale across the United States and finds that the\n",
    "mean price per square foot is $31.67, with a standard deviation of $1.29. assume\n",
    "that the prices of warehouse footage are normally distributed in population. If the\n",
    "researcher uses a 5% level of significance, what statistical conclusion can be\n",
    "reached? What are the hypotheses?"
   ]
  },
  {
   "cell_type": "code",
   "execution_count": 57,
   "id": "continent-parameter",
   "metadata": {},
   "outputs": [
    {
     "name": "stdout",
     "output_type": "stream",
     "text": [
      "p value= 5.4033529159972105\n",
      "fail to reject null hypothesis\n"
     ]
    }
   ],
   "source": [
    "m = 32.28\n",
    "ss = 1.29 #population std deviation\n",
    "n=19\n",
    "ms = 31.67\n",
    "alpha = 5\n",
    "\n",
    "zt = (ms-m)/(ss/pow(n,0.5))\n",
    "\n",
    "# h0: mean =32.28\n",
    "# h1: mean not equals 32.28\n",
    "p=0\n",
    "if zt < 0:\n",
    "    p = 200*st.t.cdf(zt,n-1)##using t test as no of samples are less than 30\n",
    "else:\n",
    "    p = 200*(1-st.t.cdf(zt,n-1))\n",
    "print('p value=',p)\n",
    "if p > alpha:\n",
    "    print('fail to reject null hypothesis')\n",
    "else:\n",
    "    print('reject null hypothesis')\n"
   ]
  },
  {
   "cell_type": "raw",
   "id": "absolute-communications",
   "metadata": {},
   "source": [
    "Problem Statement 7:\n",
    "Fill in the blank spaces in the table and draw your conclusions from it.\n"
   ]
  },
  {
   "cell_type": "code",
   "execution_count": 67,
   "id": "meaningful-arnold",
   "metadata": {},
   "outputs": [
    {
     "name": "stdout",
     "output_type": "stream",
     "text": [
      "case1: acceptance region 48.5 to 51.5\n",
      "p= 5.777957112359711\n",
      "beta= 26.353985497284643\n",
      "beta= 89.1342376440965\n",
      "case2: acceptance region 48 to 52\n",
      "p= 1.141203638600177\n",
      "beta= 49.99997899803012\n",
      "beta= 97.03275133092002\n",
      "case3: acceptance region 48.81 to 51.19\n",
      "p= 5.691018418271594\n",
      "beta= 9.74875761711759\n",
      "beta= 86.17779166970617\n",
      "case4: acceptance region 48.42 to 51.58\n",
      "p= 1.1471435197072148\n",
      "beta= 25.079184307889047\n",
      "beta= 95.75685284788618\n"
     ]
    }
   ],
   "source": [
    "#left acceptance la, right accpt ra, no of samples n\n",
    "def printalphabeta(la,ra,n):\n",
    "    m = 50\n",
    "    ps = 2.5 #population std deviation\n",
    "#     n=10\n",
    "#     la = 48\n",
    "#     ra = 52\n",
    "    alpha = 5\n",
    "\n",
    "    lz = (la-m)/(ps/pow(n,0.5))\n",
    "    rz = (ra-m)/(ps/pow(n,0.5))\n",
    "    p = 100-100*st.norm.cdf(rz)+100*st.norm.cdf(lz)##using t test as no of samples are less than 30\n",
    "    print('p=',p)\n",
    "\n",
    "    #for Ha beta =52\n",
    "    m= 52\n",
    "\n",
    "    lz = (la-m)/(ps/pow(n,0.5))\n",
    "    rz = (ra-m)/(ps/pow(n,0.5))\n",
    "    beta = 100*st.norm.cdf(rz)-100*st.norm.cdf(lz)\n",
    "    print('beta=',beta)\n",
    "\n",
    "    #for Ha beta =50.5\n",
    "    m= 50.5\n",
    "\n",
    "    lz = (la-m)/(ps/pow(n,0.5))\n",
    "    rz = (ra-m)/(ps/pow(n,0.5))\n",
    "    beta = 100*st.norm.cdf(rz)-100*st.norm.cdf(lz)\n",
    "    print('beta=',beta)\n",
    "    \n",
    "# acceptance region 48.5 to 51.5 sample size 10\n",
    "print('case1: acceptance region 48.5 to 51.5')\n",
    "printalphabeta(48.5,51.5,10)\n",
    "\n",
    "# case 2 acceptance region 48 to 52 sample size 10 \n",
    "print('case2: acceptance region 48 to 52')\n",
    "printalphabeta(48,52,10)\n",
    "\n",
    "# case 3 acceptance region 48.81 to 51.19 sample size 10 \n",
    "print('case3: acceptance region 48.81 to 51.19')\n",
    "printalphabeta(48.81,51.19,16)\n",
    "\n",
    "# case 4 acceptance region 48.42 to 51.58 sample size 10 \n",
    "print('case4: acceptance region 48.42 to 51.58')\n",
    "printalphabeta(48.42,51.58,16)"
   ]
  },
  {
   "cell_type": "raw",
   "id": "ethical-george",
   "metadata": {},
   "source": [
    "Problem Statement 8:\n",
    "Find the t-score for a sample size of 16 taken from a population with mean 10 when\n",
    "the sample mean is 12 and the sample standard deviation is 1.5.\n",
    "Problem Statement 9:\n",
    "Find the t-score below which we can expect 99% of sample means will fall if samples\n",
    "of size 16 are taken from a normally distributed population."
   ]
  },
  {
   "cell_type": "code",
   "execution_count": 68,
   "id": "expired-wealth",
   "metadata": {},
   "outputs": [
    {
     "name": "stdout",
     "output_type": "stream",
     "text": [
      "tscore= 5.333333333333333\n",
      "tscore for 99% sample means= -2.946712883338615\n"
     ]
    }
   ],
   "source": [
    "#8\n",
    "m = 10\n",
    "ss = 1.5 #population std deviation\n",
    "n=16\n",
    "ms = 12\n",
    "\n",
    "zt = (ms-m)/(ss/pow(n,0.5))\n",
    "print('tscore=',zt)\n",
    "\n",
    "#9\n",
    "print('tscore for 99% sample means=',st.t.ppf(0.005,15))"
   ]
  },
  {
   "cell_type": "raw",
   "id": "protecting-statistics",
   "metadata": {},
   "source": [
    "Problem Statement 10:\n",
    "If a random sample of size 25 drawn from a normal population gives a mean of 60\n",
    "and a standard deviation of 4, find the range of t-scores where we can expect to find\n",
    "the middle 95% of all sample means. Compute the probability that (−𝑡0.05 <𝑡<𝑡0.10)."
   ]
  },
  {
   "cell_type": "code",
   "execution_count": 73,
   "id": "useful-tunnel",
   "metadata": {},
   "outputs": [
    {
     "name": "stdout",
     "output_type": "stream",
     "text": [
      "tscore for 95% sample means= -2.063898561628021  to  2.063898561628021\n",
      "prob of -0.05<t<0.10 is  0.05914441613731247\n"
     ]
    }
   ],
   "source": [
    "# m = 10\n",
    "ss = 4 #population std deviation\n",
    "n=25\n",
    "ms = 60\n",
    "\n",
    "# zt = (ms-m)/(ss/pow(n,0.5))\n",
    "# print('tscore=',zt)\n",
    "\n",
    "#9\n",
    "print('tscore for 95% sample means=',st.t.ppf(0.025,n-1),\" to \",-st.t.ppf(0.025,n-1))\n",
    "\n",
    "print('prob of -0.05<t<0.10 is ',st.t.cdf(0.1,24)-st.t.cdf(-0.05,24))"
   ]
  },
  {
   "cell_type": "raw",
   "id": "convinced-uncertainty",
   "metadata": {},
   "source": [
    "Problem Statement 11:\n",
    "Two-tailed test for difference between two population means\n",
    "Is there evidence to conclude that the number of people travelling from Bangalore to\n",
    "Chennai is different from the number of people travelling from Bangalore to Hosur in\n",
    "a week, given the following:\n",
    "Population 1: Bangalore to Chennai n1 = 1200\n",
    "x1 = 452\n",
    "s1 = 212\n",
    "Population 2: Bangalore to Hosur n2 = 800\n",
    "x2 = 523\n",
    "s2 = 185"
   ]
  },
  {
   "cell_type": "code",
   "execution_count": 90,
   "id": "alike-davis",
   "metadata": {},
   "outputs": [
    {
     "name": "stdout",
     "output_type": "stream",
     "text": [
      "p value= 2.2553835335706493e-13\n",
      "reject null hypothesis\n"
     ]
    }
   ],
   "source": [
    "x1=452\n",
    "n1=1200\n",
    "s1=212\n",
    "x2=523\n",
    "n2=800\n",
    "s2=185\n",
    "var = ((s1**2)/n1)+((s2**2)/n2)\n",
    "zt = (x1-x2)/(pow(var,0.5))\n",
    "# assume alpha =0.05\n",
    "alpha =5\n",
    "\n",
    "# h0: mean =0\n",
    "# h1: mean not equals 0\n",
    "p=0\n",
    "if zt < 0:\n",
    "    p = 200*st.norm.cdf(zt)\n",
    "else:\n",
    "    p = 200*(1-st.norm.cdf(zt))\n",
    "print('p value=',p)\n",
    "if p > alpha:\n",
    "    print('accept null hypothesis')\n",
    "else:\n",
    "    print('reject null hypothesis')\n"
   ]
  },
  {
   "cell_type": "raw",
   "id": "romantic-theory",
   "metadata": {},
   "source": [
    "Problem Statement 12:\n",
    "Is there evidence to conclude that the number of people preferring Duracell battery is\n",
    "different from the number of people preferring Energizer battery, given the following:\n",
    "Population 1: Duracell\n",
    "n1 = 100\n",
    "x1 = 308\n",
    "s1 = 84\n",
    "Population 2: Energizer\n",
    "n2 = 100\n",
    "x2 = 254\n",
    "s2 = 67"
   ]
  },
  {
   "cell_type": "code",
   "execution_count": 89,
   "id": "suffering-wonder",
   "metadata": {},
   "outputs": [
    {
     "name": "stdout",
     "output_type": "stream",
     "text": [
      "p value= 5.015925257367826e-05\n",
      "reject null hypothesis\n"
     ]
    }
   ],
   "source": [
    "x1=308\n",
    "n1=100\n",
    "s1=84\n",
    "x2=254\n",
    "n2=100\n",
    "s2=67\n",
    "var = ((s1**2)/n1)+((s2**2)/n2)\n",
    "zt = (x1-x2)/(pow(var,0.5))\n",
    "# assume alpha =0.05\n",
    "alpha =5\n",
    "\n",
    "# h0: mean =0\n",
    "# h1: mean not equals 0\n",
    "p=0\n",
    "if zt < 0:\n",
    "    p = 200*st.norm.cdf(zt)\n",
    "else:\n",
    "    p = 200*(1-st.norm.cdf(zt))\n",
    "print('p value=',p)\n",
    "if p > alpha:\n",
    "    print('accept null hypothesis')\n",
    "else:\n",
    "    print('reject null hypothesis')"
   ]
  },
  {
   "cell_type": "raw",
   "id": "racial-violence",
   "metadata": {},
   "source": [
    "Problem Statement 13:\n",
    "Pooled estimate of the population variance\n",
    "Does the data provide sufficient evidence to conclude that average percentage\n",
    "increase in the price of sugar differs when it is sold at two different prices?\n",
    "Population 1: Price of sugar = Rs. 27.50 n1 = 14\n",
    "x1 = 0.317%\n",
    "s1 = 0.12%\n",
    "Population 2: Price of sugar = Rs. 20.00 n2 = 9\n",
    "x2 = 0.21%\n",
    "s2 = 0.11%"
   ]
  },
  {
   "cell_type": "code",
   "execution_count": 97,
   "id": "judicial-times",
   "metadata": {},
   "outputs": [
    {
     "name": "stdout",
     "output_type": "stream",
     "text": [
      "p value= 4.304727512121764\n",
      "reject null hypothesis\n"
     ]
    }
   ],
   "source": [
    "m1=27.5\n",
    "x1=0.317\n",
    "n1=14\n",
    "s1=0.12\n",
    "m2=20\n",
    "x2=0.21\n",
    "n2=9\n",
    "s2=0.11\n",
    "se = ((s1**2)*(n1-1)+((s2**2)*(n2-1)))/(n1+n2-2)*((1/n1)+(1/n2)) #pooled variance multiplied used for standard error assuming equal global varance\n",
    "zt = (x1-x2)/(pow(se,0.5))\n",
    "# assume alpha =0.05\n",
    "alpha = 5\n",
    "\n",
    "# h0: mean =0\n",
    "# h1: mean not equals 0\n",
    "p=0\n",
    "if zt < 0:\n",
    "    p = 200*st.t.cdf(zt,n1+n2-2)\n",
    "else:\n",
    "    p = 200*(1-st.t.cdf(zt,n1+n2-2))\n",
    "print('p value=',p)\n",
    "if p > alpha:\n",
    "    print('accept null hypothesis')\n",
    "else:\n",
    "    print('reject null hypothesis')"
   ]
  },
  {
   "cell_type": "raw",
   "id": "consistent-squad",
   "metadata": {},
   "source": [
    "Problem Statement 14:\n",
    "The manufacturers of compact disk players want to test whether a small price\n",
    "reduction is enough to increase sales of their product. Is there evidence that the\n",
    "small price reduction is enough to increase sales of compact disk players?\n",
    "Population 1: Before reduction\n",
    "n1 = 15\n",
    "x1 = Rs. 6598 s1 = Rs. 844\n",
    "Population 2: After reduction n2 = 12\n",
    "x2 = RS. 6870\n",
    "s2 = Rs. 669"
   ]
  },
  {
   "cell_type": "code",
   "execution_count": 100,
   "id": "impressive-oklahoma",
   "metadata": {},
   "outputs": [
    {
     "name": "stdout",
     "output_type": "stream",
     "text": [
      "p value= 37.160100511851766\n",
      "accept null hypothesis\n"
     ]
    }
   ],
   "source": [
    "x1=6598\n",
    "n1=15\n",
    "s1=844\n",
    "x2=6870\n",
    "n2=12\n",
    "s2=669\n",
    "se = ((s1**2)*(n1-1)+((s2**2)*(n2-1)))/(n1+n2-2)*((1/n1)+(1/n2)) #pooled variance multiplied used for standard error assuming equal global varance\n",
    "zt = (x1-x2)/(pow(se,0.5))\n",
    "# assume alpha =0.05\n",
    "alpha = 5\n",
    "\n",
    "# h0: mean =0\n",
    "# h1: mean not equals 0\n",
    "p=0\n",
    "if zt < 0:\n",
    "    p = 200*st.t.cdf(zt,n1+n2-2)\n",
    "else:\n",
    "    p = 200*(1-st.t.cdf(zt,n1+n2-2))\n",
    "print('p value=',p)\n",
    "if p > alpha:\n",
    "    print('accept null hypothesis')\n",
    "else:\n",
    "    print('reject null hypothesis')"
   ]
  },
  {
   "cell_type": "raw",
   "id": "empty-wrapping",
   "metadata": {},
   "source": [
    "Problem Statement 15:\n",
    "Comparisons of two population proportions when the hypothesized difference is zero\n",
    "Carry out a two-tailed test of the equality of banks’ share of the car loan market in\n",
    "1980 and 1995.\n",
    "Population 1: 1980\n",
    "n1 = 100\n",
    "x1 = 53\n",
    "𝑝 1 = 0.53\n",
    "Population 2: 1985\n",
    "n2 = 100\n",
    "x2 = 43\n",
    "𝑝 2= 0.43"
   ]
  },
  {
   "cell_type": "code",
   "execution_count": 103,
   "id": "present-mandate",
   "metadata": {},
   "outputs": [
    {
     "name": "stdout",
     "output_type": "stream",
     "text": [
      "p value= 15.696698825357757\n",
      "accept null hypothesis\n"
     ]
    }
   ],
   "source": [
    "x1=53\n",
    "n1=100\n",
    "x2=43\n",
    "n2=100\n",
    "phat=(x1+x2)/(n1+n2)\n",
    "q=1-phat\n",
    "p1=0.53\n",
    "p2=0.43\n",
    "sv=phat*q*((1/n1)+(1/n2))\n",
    "zt=(p1-p2)/pow(sv,0.5)\n",
    "alpha=5\n",
    "p=0\n",
    "if zt < 0:\n",
    "    p = 200*st.norm.cdf(zt)\n",
    "else:\n",
    "    p = 200*(1-st.norm.cdf(zt))\n",
    "print('p value=',p)\n",
    "if p > alpha:\n",
    "    print('accept null hypothesis')\n",
    "else:\n",
    "    print('reject null hypothesis')"
   ]
  },
  {
   "cell_type": "raw",
   "id": "useful-cornwall",
   "metadata": {},
   "source": [
    "Problem Statement 16:\n",
    "Carry out a one-tailed test to determine whether the population proportion of\n",
    "traveler’s check buyers who buy at least $2500 in checks when sweepstakes prizes\n",
    "are offered as at least 10% higher than the proportion of such buyers when no\n",
    "sweepstakes are on.\n",
    "Population 1: With sweepstakes\n",
    "n1 = 300\n",
    "x1 = 120\n",
    "𝑝 = 0.40\n",
    "Population 2: No sweepstakes n2 = 700\n",
    "x2 = 140\n",
    "𝑝 2= 0.20"
   ]
  },
  {
   "cell_type": "code",
   "execution_count": 105,
   "id": "consolidated-taiwan",
   "metadata": {},
   "outputs": [
    {
     "name": "stdout",
     "output_type": "stream",
     "text": [
      "p value= 0.09540102779929567\n",
      "reject null hypothesis\n"
     ]
    }
   ],
   "source": [
    "x1=120\n",
    "n1=300\n",
    "x2=140\n",
    "n2=700\n",
    "phat=(x1+x2)/(n1+n2)\n",
    "q=1-phat\n",
    "p1=0.4\n",
    "p2=0.4\n",
    "sv=phat*q*((1/n1)+(1/n2))\n",
    "zt=(p1-p2-0.1)/pow(sv,0.5)\n",
    "alpha=5\n",
    "p=0\n",
    "if zt < 0:\n",
    "    p = 200*st.norm.cdf(zt)\n",
    "else:\n",
    "    p = 200*(1-st.norm.cdf(zt))\n",
    "print('p value=',p)\n",
    "if p > alpha:\n",
    "    print('accept null hypothesis')\n",
    "else:\n",
    "    print('reject null hypothesis')"
   ]
  },
  {
   "cell_type": "raw",
   "id": "noble-suite",
   "metadata": {},
   "source": [
    "Problem Statement 17:\n",
    "A die is thrown 132 times with the following results: Number turned up: 1, 2, 3, 4, 5, 6\n",
    "Frequency: 16, 20, 25, 14, 29, 28\n",
    "Is the die unbiased? Consider the degrees of freedom as 𝑝 − 1."
   ]
  },
  {
   "cell_type": "code",
   "execution_count": 128,
   "id": "local-pencil",
   "metadata": {},
   "outputs": [
    {
     "name": "stdout",
     "output_type": "stream",
     "text": [
      "chi squared test= 9.0\n",
      "p value= 0.10906415794977253\n",
      "accept null hypothesis\n"
     ]
    }
   ],
   "source": [
    "x=np.array([16, 20, 25, 14, 29, 28])\n",
    "chi2=np.sum((x-22)**2)/22\n",
    "print('chi squared test=',chi2)\n",
    "p = 1-st.chi2.cdf(chi2,5)\n",
    "print('p value=',p)\n",
    "alpha = 0.05\n",
    "if p > alpha:\n",
    "    print('accept null hypothesis')\n",
    "else:\n",
    "    print('reject null hypothesis')"
   ]
  },
  {
   "cell_type": "raw",
   "id": "collected-telephone",
   "metadata": {},
   "source": [
    "Problem Statement 18:\n",
    "In a certain town, there are about one million eligible voters. A simple random\n",
    "sample of 10,000 eligible voters was chosen to study the relationship between\n",
    "gender and participation in the last election. The results are summarized in the\n",
    "following 2X2 (read two by two) contingency table:\n",
    "We would want to check whether being a man or a woman (columns) is independent of\n",
    "having voted in the last election (rows). In other words, is “gender and voting independent”?"
   ]
  },
  {
   "cell_type": "code",
   "execution_count": 130,
   "id": "searching-science",
   "metadata": {},
   "outputs": [
    {
     "name": "stdout",
     "output_type": "stream",
     "text": [
      "p value= 0.01047464310091866\n",
      "reject null hypothesis\n"
     ]
    }
   ],
   "source": [
    "# Null := Sex is independent of Voting\n",
    "# Alternative := Sex and Voting are dependent\n",
    "  \n",
    "# defining the table \n",
    "\n",
    "data = [[2792,3591], [1486,2131]] \n",
    "stat, p, dof, expected = chi2_contingency(data) \n",
    "  \n",
    "print('p value=',p)\n",
    "alpha = 0.05\n",
    "if p > alpha:\n",
    "    print('accept null hypothesis')\n",
    "else:\n",
    "    print('reject null hypothesis')"
   ]
  },
  {
   "cell_type": "raw",
   "id": "trying-repository",
   "metadata": {},
   "source": [
    "Problem Statement 19:\n",
    "A sample of 100 voters are asked which of four candidates they would vote for in an\n",
    "election. The number supporting each candidate is given below:\n",
    "Do the data suggest that all candidates are equally popular? [Chi-Square = 14.96,\n",
    "with 3 df, 𝑝 0.05 ."
   ]
  },
  {
   "cell_type": "code",
   "execution_count": 135,
   "id": "plastic-management",
   "metadata": {},
   "outputs": [
    {
     "name": "stdout",
     "output_type": "stream",
     "text": [
      "chi squared test= 14.96\n",
      "p value= 0.010534626018659843\n",
      "reject null hypothesis\n"
     ]
    }
   ],
   "source": [
    "x=np.array([41,19,24,16])\n",
    "chi2=np.sum((x-25)**2)/25 # assuming all are equal popular so expecting 25 voters each out of 100\n",
    "print('chi squared test=',chi2)\n",
    "p = 1-st.chi2.cdf(chi2,5)\n",
    "print('p value=',p)\n",
    "alpha = 0.05\n",
    "if p > alpha:\n",
    "    print('accept null hypothesis')\n",
    "else:\n",
    "    print('reject null hypothesis')"
   ]
  },
  {
   "cell_type": "raw",
   "id": "abandoned-testimony",
   "metadata": {},
   "source": [
    "Problem Statement 20:\n",
    "Children of three ages are asked to indicate their preference for three photographs of\n",
    "adults. Do the data suggest that there is a significant relationship between age and\n",
    "photograph preference? What is wrong with this study? [Chi-Square = 29.6, with 4\n",
    "df: 𝑝 < 0.05]."
   ]
  },
  {
   "cell_type": "code",
   "execution_count": 132,
   "id": "persistent-bronze",
   "metadata": {},
   "outputs": [
    {
     "name": "stdout",
     "output_type": "stream",
     "text": [
      "p value= 5.894582174262606e-06\n",
      "reject null hypothesis\n"
     ]
    }
   ],
   "source": [
    "# Null := age and pref are independant\n",
    "# Alternative := age and pref are dependant\n",
    "  \n",
    "# defining the table \n",
    "\n",
    "data = [[18,22,20], [2,28,40],[20,10,40]] \n",
    "stat, p, dof, expected = chi2_contingency(data) \n",
    "  \n",
    "print('p value=',p)\n",
    "alpha = 0.05\n",
    "if p > alpha:\n",
    "    print('accept null hypothesis')\n",
    "else:\n",
    "    print('reject null hypothesis')"
   ]
  },
  {
   "cell_type": "raw",
   "id": "literary-encoding",
   "metadata": {},
   "source": [
    "Problem Statement 21:\n",
    "A study of conformity using the Asch paradigm involved two conditions: one where\n",
    "one confederate supported the true judgement and another where no confederate\n",
    "gave the correct response.\n",
    "Is there a significant difference between the \"support\" and \"no support\" conditions in the\n",
    "frequency with which individuals are likely to conform? [Chi-Square = 19.87, with 1 df:\n",
    "𝑝 < 0.05]."
   ]
  },
  {
   "cell_type": "code",
   "execution_count": 136,
   "id": "arbitrary-brick",
   "metadata": {},
   "outputs": [
    {
     "name": "stdout",
     "output_type": "stream",
     "text": [
      "chi squared= 18.10344827586207\n",
      "p value= 2.092221924065813e-05\n",
      "reject null hypothesis\n"
     ]
    }
   ],
   "source": [
    "# Null := support and not support are independant\n",
    "# Alternative := support and not support are dependant\n",
    "  \n",
    "# defining the table \n",
    "\n",
    "data = [[18,40], [32,10]] \n",
    "stat, p, dof, expected = chi2_contingency(data) \n",
    "print('chi squared=',stat)\n",
    "print('p value=',p)\n",
    "alpha = 0.05\n",
    "if p > alpha:\n",
    "    print('accept null hypothesis')\n",
    "else:\n",
    "    print('reject null hypothesis')"
   ]
  },
  {
   "cell_type": "raw",
   "id": "improving-canyon",
   "metadata": {},
   "source": [
    "Problem Statement 22:\n",
    "We want to test whether short people differ with respect to their leadership qualities\n",
    "(Genghis Khan, Adolf Hitler and Napoleon were all stature-deprived, and how many midget\n",
    "MP's are there?) The following table shows the frequencies with which 43 short people and\n",
    "52 tall people were categorized as \"leaders\", \"followers\" or as \"unclassifiable\". Is there a\n",
    "relationship between height and leadership qualities?\n",
    "[Chi-Square = 10.71, with 2 df: 𝑝 < 0.01]."
   ]
  },
  {
   "cell_type": "code",
   "execution_count": 139,
   "id": "interpreted-confusion",
   "metadata": {},
   "outputs": [
    {
     "name": "stdout",
     "output_type": "stream",
     "text": [
      "chi squared= 10.712198008709638\n",
      "p value= 0.004719280137040844\n",
      "reject null hypothesis\n"
     ]
    }
   ],
   "source": [
    "data = [[12,32], [22,14],[9,6]] \n",
    "stat, p, dof, expected = chi2_contingency(data) \n",
    "print('chi squared=',stat)\n",
    "print('p value=',p)\n",
    "alpha = 0.01\n",
    "if p > alpha:\n",
    "    print('accept null hypothesis')\n",
    "else:\n",
    "    print('reject null hypothesis')"
   ]
  },
  {
   "cell_type": "raw",
   "id": "activated-auditor",
   "metadata": {},
   "source": [
    "Problem Statement 23:\n",
    "Each respondent in the Current Population Survey of March 1993 was classified as\n",
    "employed, unemployed, or outside the labor force. The results for men in California age 35-\n",
    "44 can be cross-tabulated by marital status, as follows:\n",
    "Men of different marital status seem to have different distributions of labor force status. Or is\n",
    "this just chance variation? (you may assume the table results from a simple random\n",
    "sample.)"
   ]
  },
  {
   "cell_type": "code",
   "execution_count": 140,
   "id": "invalid-poland",
   "metadata": {},
   "outputs": [
    {
     "name": "stdout",
     "output_type": "stream",
     "text": [
      "chi squared= 31.61310319407798\n",
      "p value= 2.2949883042859918e-06\n",
      "reject null hypothesis\n"
     ]
    }
   ],
   "source": [
    "data = [[679,103,114], [63,10,20],[42,18,25]] \n",
    "stat, p, dof, expected = chi2_contingency(data) \n",
    "print('chi squared=',stat)\n",
    "print('p value=',p)\n",
    "alpha = 0.05\n",
    "if p > alpha:\n",
    "    print('accept null hypothesis')\n",
    "else:\n",
    "    print('reject null hypothesis')"
   ]
  },
  {
   "cell_type": "raw",
   "id": "charged-member",
   "metadata": {},
   "source": [
    "Thank you \n",
    "[end]"
   ]
  }
 ],
 "metadata": {
  "kernelspec": {
   "display_name": "Python 3",
   "language": "python",
   "name": "python3"
  },
  "language_info": {
   "codemirror_mode": {
    "name": "ipython",
    "version": 3
   },
   "file_extension": ".py",
   "mimetype": "text/x-python",
   "name": "python",
   "nbconvert_exporter": "python",
   "pygments_lexer": "ipython3",
   "version": "3.7.1"
  }
 },
 "nbformat": 4,
 "nbformat_minor": 5
}
