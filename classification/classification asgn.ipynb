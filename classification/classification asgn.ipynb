{
 "cells": [
  {
   "cell_type": "code",
   "execution_count": 21,
   "id": "governing-south",
   "metadata": {},
   "outputs": [],
   "source": [
    "import numpy as np\n",
    "import pandas as pd      #http://archive.ics.uci.edu/ml/machine-learning-databases/adult/adult\n",
    "import matplotlib.pyplot as plt\n",
    "from patsy import dmatrices\n",
    "from sklearn.model_selection import cross_val_score,KFold,GridSearchCV\n",
    "from sklearn.preprocessing import LabelEncoder\n",
    "from sklearn.metrics import accuracy_score\n",
    "import warnings\n",
    "warnings.filterwarnings(\"ignore\")\n",
    "\n",
    "from sklearn.neural_network import MLPClassifier\n",
    "from sklearn.neighbors import KNeighborsClassifier\n",
    "from sklearn.svm import SVC\n",
    "from sklearn.gaussian_process import GaussianProcessClassifier\n",
    "from sklearn.gaussian_process.kernels import RBF\n",
    "from sklearn.tree import DecisionTreeClassifier\n",
    "from sklearn.ensemble import RandomForestClassifier, AdaBoostClassifier\n",
    "from sklearn.naive_bayes import GaussianNB\n",
    "from sklearn.discriminant_analysis import QuadraticDiscriminantAnalysis\n",
    "from sklearn.linear_model import LogisticRegression\n",
    "from xgboost import XGBClassifier\n",
    "\n",
    "\n",
    "from sklearn.model_selection import train_test_split\n",
    "from sklearn.metrics import accuracy_score"
   ]
  },
  {
   "cell_type": "code",
   "execution_count": 274,
   "id": "center-reform",
   "metadata": {},
   "outputs": [],
   "source": [
    "##without dummies for categorical values\n",
    "train_set = pd.read_csv('train.csv', header = 0,index_col=None)\n",
    "test_set = pd.read_csv('test.csv' ,  header = 0,index_col=None)\n",
    "data =[ train_set,test_set]\n",
    "for dataset in data:\n",
    "    for column in dataset:\n",
    "        enc=LabelEncoder()\n",
    "        if dataset.dtypes[column]==np.object:\n",
    "             dataset[column]=enc.fit_transform(dataset[column])    \n",
    "    dataset.drop([ 'fnlwgt', 'capital_gain','capital_loss', 'native_country'], axis=1, inplace=True)  \n"
   ]
  },
  {
   "cell_type": "code",
   "execution_count": 275,
   "id": "artistic-lover",
   "metadata": {},
   "outputs": [
    {
     "data": {
      "text/html": [
       "<div>\n",
       "<style scoped>\n",
       "    .dataframe tbody tr th:only-of-type {\n",
       "        vertical-align: middle;\n",
       "    }\n",
       "\n",
       "    .dataframe tbody tr th {\n",
       "        vertical-align: top;\n",
       "    }\n",
       "\n",
       "    .dataframe thead th {\n",
       "        text-align: right;\n",
       "    }\n",
       "</style>\n",
       "<table border=\"1\" class=\"dataframe\">\n",
       "  <thead>\n",
       "    <tr style=\"text-align: right;\">\n",
       "      <th></th>\n",
       "      <th>age</th>\n",
       "      <th>workclass</th>\n",
       "      <th>education</th>\n",
       "      <th>education_num</th>\n",
       "      <th>marital_status</th>\n",
       "      <th>occupation</th>\n",
       "      <th>relationship</th>\n",
       "      <th>race</th>\n",
       "      <th>sex</th>\n",
       "      <th>hours_per_week</th>\n",
       "      <th>wage_class</th>\n",
       "    </tr>\n",
       "  </thead>\n",
       "  <tbody>\n",
       "    <tr>\n",
       "      <th>0</th>\n",
       "      <td>39</td>\n",
       "      <td>7</td>\n",
       "      <td>9</td>\n",
       "      <td>13</td>\n",
       "      <td>4</td>\n",
       "      <td>1</td>\n",
       "      <td>1</td>\n",
       "      <td>4</td>\n",
       "      <td>1</td>\n",
       "      <td>40</td>\n",
       "      <td>0</td>\n",
       "    </tr>\n",
       "    <tr>\n",
       "      <th>1</th>\n",
       "      <td>50</td>\n",
       "      <td>6</td>\n",
       "      <td>9</td>\n",
       "      <td>13</td>\n",
       "      <td>2</td>\n",
       "      <td>4</td>\n",
       "      <td>0</td>\n",
       "      <td>4</td>\n",
       "      <td>1</td>\n",
       "      <td>13</td>\n",
       "      <td>0</td>\n",
       "    </tr>\n",
       "    <tr>\n",
       "      <th>2</th>\n",
       "      <td>38</td>\n",
       "      <td>4</td>\n",
       "      <td>11</td>\n",
       "      <td>9</td>\n",
       "      <td>0</td>\n",
       "      <td>6</td>\n",
       "      <td>1</td>\n",
       "      <td>4</td>\n",
       "      <td>1</td>\n",
       "      <td>40</td>\n",
       "      <td>0</td>\n",
       "    </tr>\n",
       "    <tr>\n",
       "      <th>3</th>\n",
       "      <td>53</td>\n",
       "      <td>4</td>\n",
       "      <td>1</td>\n",
       "      <td>7</td>\n",
       "      <td>2</td>\n",
       "      <td>6</td>\n",
       "      <td>0</td>\n",
       "      <td>2</td>\n",
       "      <td>1</td>\n",
       "      <td>40</td>\n",
       "      <td>0</td>\n",
       "    </tr>\n",
       "    <tr>\n",
       "      <th>4</th>\n",
       "      <td>28</td>\n",
       "      <td>4</td>\n",
       "      <td>9</td>\n",
       "      <td>13</td>\n",
       "      <td>2</td>\n",
       "      <td>10</td>\n",
       "      <td>5</td>\n",
       "      <td>2</td>\n",
       "      <td>0</td>\n",
       "      <td>40</td>\n",
       "      <td>0</td>\n",
       "    </tr>\n",
       "  </tbody>\n",
       "</table>\n",
       "</div>"
      ],
      "text/plain": [
       "   age  workclass  education  education_num  marital_status  occupation  \\\n",
       "0   39          7          9             13               4           1   \n",
       "1   50          6          9             13               2           4   \n",
       "2   38          4         11              9               0           6   \n",
       "3   53          4          1              7               2           6   \n",
       "4   28          4          9             13               2          10   \n",
       "\n",
       "   relationship  race  sex  hours_per_week  wage_class  \n",
       "0             1     4    1              40           0  \n",
       "1             0     4    1              13           0  \n",
       "2             1     4    1              40           0  \n",
       "3             0     2    1              40           0  \n",
       "4             5     2    0              40           0  "
      ]
     },
     "execution_count": 275,
     "metadata": {},
     "output_type": "execute_result"
    }
   ],
   "source": [
    "train_set.head()"
   ]
  },
  {
   "cell_type": "code",
   "execution_count": 277,
   "id": "forty-classic",
   "metadata": {},
   "outputs": [],
   "source": [
    "Xtrain = train_set.drop(columns = ['wage_class'])\n",
    "ytrain = train_set['wage_class']\n",
    "Xtest = test_set.drop(columns = ['wage_class'])\n",
    "ytest = test_set['wage_class']"
   ]
  },
  {
   "cell_type": "code",
   "execution_count": null,
   "id": "actual-bacon",
   "metadata": {},
   "outputs": [],
   "source": [
    "#xgboost algorithm"
   ]
  },
  {
   "cell_type": "code",
   "execution_count": 278,
   "id": "grateful-protection",
   "metadata": {},
   "outputs": [
    {
     "name": "stdout",
     "output_type": "stream",
     "text": [
      "Fitting 5 folds for each of 32 candidates, totalling 160 fits\n",
      "[CV 1/5] END  learning_rate=1, max_depth=3, n_estimators=10, verbosity=0; total time=   0.1s\n",
      "[CV 2/5] END  learning_rate=1, max_depth=3, n_estimators=10, verbosity=0; total time=   0.0s\n",
      "[CV 3/5] END  learning_rate=1, max_depth=3, n_estimators=10, verbosity=0; total time=   0.0s\n",
      "[CV 4/5] END  learning_rate=1, max_depth=3, n_estimators=10, verbosity=0; total time=   0.0s\n",
      "[CV 5/5] END  learning_rate=1, max_depth=3, n_estimators=10, verbosity=0; total time=   0.0s\n",
      "[CV 1/5] END  learning_rate=1, max_depth=3, n_estimators=50, verbosity=0; total time=   0.3s\n",
      "[CV 2/5] END  learning_rate=1, max_depth=3, n_estimators=50, verbosity=0; total time=   0.3s\n",
      "[CV 3/5] END  learning_rate=1, max_depth=3, n_estimators=50, verbosity=0; total time=   0.3s\n",
      "[CV 4/5] END  learning_rate=1, max_depth=3, n_estimators=50, verbosity=0; total time=   0.4s\n",
      "[CV 5/5] END  learning_rate=1, max_depth=3, n_estimators=50, verbosity=0; total time=   0.3s\n",
      "[CV 1/5] END  learning_rate=1, max_depth=3, n_estimators=100, verbosity=0; total time=   0.7s\n",
      "[CV 2/5] END  learning_rate=1, max_depth=3, n_estimators=100, verbosity=0; total time=   0.8s\n",
      "[CV 3/5] END  learning_rate=1, max_depth=3, n_estimators=100, verbosity=0; total time=   0.7s\n",
      "[CV 4/5] END  learning_rate=1, max_depth=3, n_estimators=100, verbosity=0; total time=   0.7s\n",
      "[CV 5/5] END  learning_rate=1, max_depth=3, n_estimators=100, verbosity=0; total time=   0.7s\n",
      "[CV 1/5] END  learning_rate=1, max_depth=3, n_estimators=200, verbosity=0; total time=   1.4s\n",
      "[CV 2/5] END  learning_rate=1, max_depth=3, n_estimators=200, verbosity=0; total time=   1.4s\n",
      "[CV 3/5] END  learning_rate=1, max_depth=3, n_estimators=200, verbosity=0; total time=   1.4s\n",
      "[CV 4/5] END  learning_rate=1, max_depth=3, n_estimators=200, verbosity=0; total time=   1.4s\n",
      "[CV 5/5] END  learning_rate=1, max_depth=3, n_estimators=200, verbosity=0; total time=   1.5s\n",
      "[CV 1/5] END  learning_rate=1, max_depth=5, n_estimators=10, verbosity=0; total time=   0.1s\n",
      "[CV 2/5] END  learning_rate=1, max_depth=5, n_estimators=10, verbosity=0; total time=   0.1s\n",
      "[CV 3/5] END  learning_rate=1, max_depth=5, n_estimators=10, verbosity=0; total time=   0.1s\n",
      "[CV 4/5] END  learning_rate=1, max_depth=5, n_estimators=10, verbosity=0; total time=   0.1s\n",
      "[CV 5/5] END  learning_rate=1, max_depth=5, n_estimators=10, verbosity=0; total time=   0.1s\n",
      "[CV 1/5] END  learning_rate=1, max_depth=5, n_estimators=50, verbosity=0; total time=   0.5s\n",
      "[CV 2/5] END  learning_rate=1, max_depth=5, n_estimators=50, verbosity=0; total time=   0.7s\n",
      "[CV 3/5] END  learning_rate=1, max_depth=5, n_estimators=50, verbosity=0; total time=   0.6s\n",
      "[CV 4/5] END  learning_rate=1, max_depth=5, n_estimators=50, verbosity=0; total time=   0.6s\n",
      "[CV 5/5] END  learning_rate=1, max_depth=5, n_estimators=50, verbosity=0; total time=   0.6s\n",
      "[CV 1/5] END  learning_rate=1, max_depth=5, n_estimators=100, verbosity=0; total time=   1.2s\n",
      "[CV 2/5] END  learning_rate=1, max_depth=5, n_estimators=100, verbosity=0; total time=   1.2s\n",
      "[CV 3/5] END  learning_rate=1, max_depth=5, n_estimators=100, verbosity=0; total time=   1.2s\n",
      "[CV 4/5] END  learning_rate=1, max_depth=5, n_estimators=100, verbosity=0; total time=   1.1s\n",
      "[CV 5/5] END  learning_rate=1, max_depth=5, n_estimators=100, verbosity=0; total time=   1.4s\n",
      "[CV 1/5] END  learning_rate=1, max_depth=5, n_estimators=200, verbosity=0; total time=   2.3s\n",
      "[CV 2/5] END  learning_rate=1, max_depth=5, n_estimators=200, verbosity=0; total time=   2.4s\n",
      "[CV 3/5] END  learning_rate=1, max_depth=5, n_estimators=200, verbosity=0; total time=   2.6s\n",
      "[CV 4/5] END  learning_rate=1, max_depth=5, n_estimators=200, verbosity=0; total time=   2.4s\n",
      "[CV 5/5] END  learning_rate=1, max_depth=5, n_estimators=200, verbosity=0; total time=   2.5s\n",
      "[CV 1/5] END  learning_rate=1, max_depth=10, n_estimators=10, verbosity=0; total time=   0.3s\n",
      "[CV 2/5] END  learning_rate=1, max_depth=10, n_estimators=10, verbosity=0; total time=   0.3s\n",
      "[CV 3/5] END  learning_rate=1, max_depth=10, n_estimators=10, verbosity=0; total time=   0.3s\n",
      "[CV 4/5] END  learning_rate=1, max_depth=10, n_estimators=10, verbosity=0; total time=   0.4s\n",
      "[CV 5/5] END  learning_rate=1, max_depth=10, n_estimators=10, verbosity=0; total time=   0.3s\n",
      "[CV 1/5] END  learning_rate=1, max_depth=10, n_estimators=50, verbosity=0; total time=   1.4s\n",
      "[CV 2/5] END  learning_rate=1, max_depth=10, n_estimators=50, verbosity=0; total time=   1.3s\n",
      "[CV 3/5] END  learning_rate=1, max_depth=10, n_estimators=50, verbosity=0; total time=   1.4s\n",
      "[CV 4/5] END  learning_rate=1, max_depth=10, n_estimators=50, verbosity=0; total time=   1.5s\n",
      "[CV 5/5] END  learning_rate=1, max_depth=10, n_estimators=50, verbosity=0; total time=   1.4s\n",
      "[CV 1/5] END  learning_rate=1, max_depth=10, n_estimators=100, verbosity=0; total time=   2.6s\n",
      "[CV 2/5] END  learning_rate=1, max_depth=10, n_estimators=100, verbosity=0; total time=   3.1s\n",
      "[CV 3/5] END  learning_rate=1, max_depth=10, n_estimators=100, verbosity=0; total time=   3.0s\n",
      "[CV 4/5] END  learning_rate=1, max_depth=10, n_estimators=100, verbosity=0; total time=   2.8s\n",
      "[CV 5/5] END  learning_rate=1, max_depth=10, n_estimators=100, verbosity=0; total time=   2.9s\n",
      "[CV 1/5] END  learning_rate=1, max_depth=10, n_estimators=200, verbosity=0; total time=   6.7s\n",
      "[CV 2/5] END  learning_rate=1, max_depth=10, n_estimators=200, verbosity=0; total time=   5.9s\n",
      "[CV 3/5] END  learning_rate=1, max_depth=10, n_estimators=200, verbosity=0; total time=   5.4s\n",
      "[CV 4/5] END  learning_rate=1, max_depth=10, n_estimators=200, verbosity=0; total time=   5.8s\n",
      "[CV 5/5] END  learning_rate=1, max_depth=10, n_estimators=200, verbosity=0; total time=   5.0s\n",
      "[CV 1/5] END  learning_rate=1, max_depth=20, n_estimators=10, verbosity=0; total time=   0.7s\n",
      "[CV 2/5] END  learning_rate=1, max_depth=20, n_estimators=10, verbosity=0; total time=   0.7s\n",
      "[CV 3/5] END  learning_rate=1, max_depth=20, n_estimators=10, verbosity=0; total time=   0.7s\n",
      "[CV 4/5] END  learning_rate=1, max_depth=20, n_estimators=10, verbosity=0; total time=   0.7s\n",
      "[CV 5/5] END  learning_rate=1, max_depth=20, n_estimators=10, verbosity=0; total time=   0.7s\n",
      "[CV 1/5] END  learning_rate=1, max_depth=20, n_estimators=50, verbosity=0; total time=   3.1s\n",
      "[CV 2/5] END  learning_rate=1, max_depth=20, n_estimators=50, verbosity=0; total time=   3.3s\n",
      "[CV 3/5] END  learning_rate=1, max_depth=20, n_estimators=50, verbosity=0; total time=   3.2s\n",
      "[CV 4/5] END  learning_rate=1, max_depth=20, n_estimators=50, verbosity=0; total time=   3.1s\n",
      "[CV 5/5] END  learning_rate=1, max_depth=20, n_estimators=50, verbosity=0; total time=   3.1s\n",
      "[CV 1/5] END  learning_rate=1, max_depth=20, n_estimators=100, verbosity=0; total time=   5.9s\n",
      "[CV 2/5] END  learning_rate=1, max_depth=20, n_estimators=100, verbosity=0; total time=   6.0s\n",
      "[CV 3/5] END  learning_rate=1, max_depth=20, n_estimators=100, verbosity=0; total time=   5.9s\n",
      "[CV 4/5] END  learning_rate=1, max_depth=20, n_estimators=100, verbosity=0; total time=   5.9s\n",
      "[CV 5/5] END  learning_rate=1, max_depth=20, n_estimators=100, verbosity=0; total time=   5.9s\n",
      "[CV 1/5] END  learning_rate=1, max_depth=20, n_estimators=200, verbosity=0; total time=  11.5s\n",
      "[CV 2/5] END  learning_rate=1, max_depth=20, n_estimators=200, verbosity=0; total time=  11.5s\n",
      "[CV 3/5] END  learning_rate=1, max_depth=20, n_estimators=200, verbosity=0; total time=  11.2s\n",
      "[CV 4/5] END  learning_rate=1, max_depth=20, n_estimators=200, verbosity=0; total time=  11.2s\n",
      "[CV 5/5] END  learning_rate=1, max_depth=20, n_estimators=200, verbosity=0; total time=  11.4s\n",
      "[CV 1/5] END  learning_rate=0.5, max_depth=3, n_estimators=10, verbosity=0; total time=   0.0s\n",
      "[CV 2/5] END  learning_rate=0.5, max_depth=3, n_estimators=10, verbosity=0; total time=   0.0s\n",
      "[CV 3/5] END  learning_rate=0.5, max_depth=3, n_estimators=10, verbosity=0; total time=   0.0s\n",
      "[CV 4/5] END  learning_rate=0.5, max_depth=3, n_estimators=10, verbosity=0; total time=   0.0s\n",
      "[CV 5/5] END  learning_rate=0.5, max_depth=3, n_estimators=10, verbosity=0; total time=   0.0s\n",
      "[CV 1/5] END  learning_rate=0.5, max_depth=3, n_estimators=50, verbosity=0; total time=   0.4s\n",
      "[CV 2/5] END  learning_rate=0.5, max_depth=3, n_estimators=50, verbosity=0; total time=   0.4s\n"
     ]
    },
    {
     "name": "stdout",
     "output_type": "stream",
     "text": [
      "[CV 3/5] END  learning_rate=0.5, max_depth=3, n_estimators=50, verbosity=0; total time=   0.4s\n",
      "[CV 4/5] END  learning_rate=0.5, max_depth=3, n_estimators=50, verbosity=0; total time=   0.3s\n",
      "[CV 5/5] END  learning_rate=0.5, max_depth=3, n_estimators=50, verbosity=0; total time=   0.3s\n",
      "[CV 1/5] END  learning_rate=0.5, max_depth=3, n_estimators=100, verbosity=0; total time=   0.7s\n",
      "[CV 2/5] END  learning_rate=0.5, max_depth=3, n_estimators=100, verbosity=0; total time=   0.7s\n",
      "[CV 3/5] END  learning_rate=0.5, max_depth=3, n_estimators=100, verbosity=0; total time=   0.7s\n",
      "[CV 4/5] END  learning_rate=0.5, max_depth=3, n_estimators=100, verbosity=0; total time=   0.7s\n",
      "[CV 5/5] END  learning_rate=0.5, max_depth=3, n_estimators=100, verbosity=0; total time=   0.6s\n",
      "[CV 1/5] END  learning_rate=0.5, max_depth=3, n_estimators=200, verbosity=0; total time=   1.8s\n",
      "[CV 2/5] END  learning_rate=0.5, max_depth=3, n_estimators=200, verbosity=0; total time=   1.6s\n",
      "[CV 3/5] END  learning_rate=0.5, max_depth=3, n_estimators=200, verbosity=0; total time=   1.5s\n",
      "[CV 4/5] END  learning_rate=0.5, max_depth=3, n_estimators=200, verbosity=0; total time=   1.7s\n",
      "[CV 5/5] END  learning_rate=0.5, max_depth=3, n_estimators=200, verbosity=0; total time=   1.5s\n",
      "[CV 1/5] END  learning_rate=0.5, max_depth=5, n_estimators=10, verbosity=0; total time=   0.1s\n",
      "[CV 2/5] END  learning_rate=0.5, max_depth=5, n_estimators=10, verbosity=0; total time=   0.1s\n",
      "[CV 3/5] END  learning_rate=0.5, max_depth=5, n_estimators=10, verbosity=0; total time=   0.1s\n",
      "[CV 4/5] END  learning_rate=0.5, max_depth=5, n_estimators=10, verbosity=0; total time=   0.1s\n",
      "[CV 5/5] END  learning_rate=0.5, max_depth=5, n_estimators=10, verbosity=0; total time=   0.1s\n",
      "[CV 1/5] END  learning_rate=0.5, max_depth=5, n_estimators=50, verbosity=0; total time=   0.5s\n",
      "[CV 2/5] END  learning_rate=0.5, max_depth=5, n_estimators=50, verbosity=0; total time=   0.5s\n",
      "[CV 3/5] END  learning_rate=0.5, max_depth=5, n_estimators=50, verbosity=0; total time=   0.6s\n",
      "[CV 4/5] END  learning_rate=0.5, max_depth=5, n_estimators=50, verbosity=0; total time=   0.6s\n",
      "[CV 5/5] END  learning_rate=0.5, max_depth=5, n_estimators=50, verbosity=0; total time=   0.5s\n",
      "[CV 1/5] END  learning_rate=0.5, max_depth=5, n_estimators=100, verbosity=0; total time=   1.1s\n",
      "[CV 2/5] END  learning_rate=0.5, max_depth=5, n_estimators=100, verbosity=0; total time=   1.1s\n",
      "[CV 3/5] END  learning_rate=0.5, max_depth=5, n_estimators=100, verbosity=0; total time=   1.2s\n",
      "[CV 4/5] END  learning_rate=0.5, max_depth=5, n_estimators=100, verbosity=0; total time=   1.1s\n",
      "[CV 5/5] END  learning_rate=0.5, max_depth=5, n_estimators=100, verbosity=0; total time=   1.1s\n",
      "[CV 1/5] END  learning_rate=0.5, max_depth=5, n_estimators=200, verbosity=0; total time=   2.2s\n",
      "[CV 2/5] END  learning_rate=0.5, max_depth=5, n_estimators=200, verbosity=0; total time=   2.3s\n",
      "[CV 3/5] END  learning_rate=0.5, max_depth=5, n_estimators=200, verbosity=0; total time=   2.4s\n",
      "[CV 4/5] END  learning_rate=0.5, max_depth=5, n_estimators=200, verbosity=0; total time=   2.2s\n",
      "[CV 5/5] END  learning_rate=0.5, max_depth=5, n_estimators=200, verbosity=0; total time=   2.3s\n",
      "[CV 1/5] END  learning_rate=0.5, max_depth=10, n_estimators=10, verbosity=0; total time=   0.3s\n",
      "[CV 2/5] END  learning_rate=0.5, max_depth=10, n_estimators=10, verbosity=0; total time=   0.3s\n",
      "[CV 3/5] END  learning_rate=0.5, max_depth=10, n_estimators=10, verbosity=0; total time=   0.3s\n",
      "[CV 4/5] END  learning_rate=0.5, max_depth=10, n_estimators=10, verbosity=0; total time=   0.3s\n",
      "[CV 5/5] END  learning_rate=0.5, max_depth=10, n_estimators=10, verbosity=0; total time=   0.3s\n",
      "[CV 1/5] END  learning_rate=0.5, max_depth=10, n_estimators=50, verbosity=0; total time=   1.3s\n",
      "[CV 2/5] END  learning_rate=0.5, max_depth=10, n_estimators=50, verbosity=0; total time=   1.3s\n",
      "[CV 3/5] END  learning_rate=0.5, max_depth=10, n_estimators=50, verbosity=0; total time=   1.4s\n",
      "[CV 4/5] END  learning_rate=0.5, max_depth=10, n_estimators=50, verbosity=0; total time=   1.3s\n",
      "[CV 5/5] END  learning_rate=0.5, max_depth=10, n_estimators=50, verbosity=0; total time=   1.4s\n",
      "[CV 1/5] END  learning_rate=0.5, max_depth=10, n_estimators=100, verbosity=0; total time=   2.6s\n",
      "[CV 2/5] END  learning_rate=0.5, max_depth=10, n_estimators=100, verbosity=0; total time=   2.6s\n",
      "[CV 3/5] END  learning_rate=0.5, max_depth=10, n_estimators=100, verbosity=0; total time=   2.7s\n",
      "[CV 4/5] END  learning_rate=0.5, max_depth=10, n_estimators=100, verbosity=0; total time=   2.7s\n",
      "[CV 5/5] END  learning_rate=0.5, max_depth=10, n_estimators=100, verbosity=0; total time=   3.1s\n",
      "[CV 1/5] END  learning_rate=0.5, max_depth=10, n_estimators=200, verbosity=0; total time=   5.4s\n",
      "[CV 2/5] END  learning_rate=0.5, max_depth=10, n_estimators=200, verbosity=0; total time=   5.7s\n",
      "[CV 3/5] END  learning_rate=0.5, max_depth=10, n_estimators=200, verbosity=0; total time=   5.4s\n",
      "[CV 4/5] END  learning_rate=0.5, max_depth=10, n_estimators=200, verbosity=0; total time=   5.4s\n",
      "[CV 5/5] END  learning_rate=0.5, max_depth=10, n_estimators=200, verbosity=0; total time=   5.7s\n",
      "[CV 1/5] END  learning_rate=0.5, max_depth=20, n_estimators=10, verbosity=0; total time=   0.7s\n",
      "[CV 2/5] END  learning_rate=0.5, max_depth=20, n_estimators=10, verbosity=0; total time=   0.7s\n",
      "[CV 3/5] END  learning_rate=0.5, max_depth=20, n_estimators=10, verbosity=0; total time=   0.7s\n",
      "[CV 4/5] END  learning_rate=0.5, max_depth=20, n_estimators=10, verbosity=0; total time=   0.8s\n",
      "[CV 5/5] END  learning_rate=0.5, max_depth=20, n_estimators=10, verbosity=0; total time=   0.7s\n",
      "[CV 1/5] END  learning_rate=0.5, max_depth=20, n_estimators=50, verbosity=0; total time=   3.2s\n",
      "[CV 2/5] END  learning_rate=0.5, max_depth=20, n_estimators=50, verbosity=0; total time=   3.2s\n",
      "[CV 3/5] END  learning_rate=0.5, max_depth=20, n_estimators=50, verbosity=0; total time=   3.2s\n",
      "[CV 4/5] END  learning_rate=0.5, max_depth=20, n_estimators=50, verbosity=0; total time=   3.2s\n",
      "[CV 5/5] END  learning_rate=0.5, max_depth=20, n_estimators=50, verbosity=0; total time=   3.2s\n",
      "[CV 1/5] END  learning_rate=0.5, max_depth=20, n_estimators=100, verbosity=0; total time=   6.0s\n",
      "[CV 2/5] END  learning_rate=0.5, max_depth=20, n_estimators=100, verbosity=0; total time=   6.1s\n",
      "[CV 3/5] END  learning_rate=0.5, max_depth=20, n_estimators=100, verbosity=0; total time=   6.0s\n",
      "[CV 4/5] END  learning_rate=0.5, max_depth=20, n_estimators=100, verbosity=0; total time=   6.2s\n",
      "[CV 5/5] END  learning_rate=0.5, max_depth=20, n_estimators=100, verbosity=0; total time=   6.0s\n",
      "[CV 1/5] END  learning_rate=0.5, max_depth=20, n_estimators=200, verbosity=0; total time=  11.8s\n",
      "[CV 2/5] END  learning_rate=0.5, max_depth=20, n_estimators=200, verbosity=0; total time=  11.8s\n",
      "[CV 3/5] END  learning_rate=0.5, max_depth=20, n_estimators=200, verbosity=0; total time=  11.9s\n",
      "[CV 4/5] END  learning_rate=0.5, max_depth=20, n_estimators=200, verbosity=0; total time=  11.3s\n",
      "[CV 5/5] END  learning_rate=0.5, max_depth=20, n_estimators=200, verbosity=0; total time=  11.7s\n"
     ]
    },
    {
     "data": {
      "text/plain": [
       "GridSearchCV(estimator=XGBClassifier(base_score=None, booster=None,\n",
       "                                     colsample_bylevel=None,\n",
       "                                     colsample_bynode=None,\n",
       "                                     colsample_bytree=None, gamma=None,\n",
       "                                     gpu_id=None, importance_type='gain',\n",
       "                                     interaction_constraints=None,\n",
       "                                     learning_rate=None, max_delta_step=None,\n",
       "                                     max_depth=None, min_child_weight=None,\n",
       "                                     missing=nan, monotone_constraints=None,\n",
       "                                     n_estimators=100, n_jobs=None,\n",
       "                                     num_parallel_tree=None, random_state=None,\n",
       "                                     reg_alpha=None, reg_lambda=None,\n",
       "                                     scale_pos_weight=None, subsample=None,\n",
       "                                     tree_method=None, validate_parameters=None,\n",
       "                                     verbosity=None),\n",
       "             param_grid={' learning_rate': [1, 0.5],\n",
       "                         'max_depth': [3, 5, 10, 20],\n",
       "                         'n_estimators': [10, 50, 100, 200], 'verbosity': [0]},\n",
       "             verbose=3)"
      ]
     },
     "execution_count": 278,
     "metadata": {},
     "output_type": "execute_result"
    }
   ],
   "source": [
    "param_grid={\n",
    "   \n",
    "    ' learning_rate':[1,0.5],\n",
    "    'max_depth': [3,5,10,20],\n",
    "    'n_estimators':[10,50,100,200],\n",
    "    'verbosity':[0]\n",
    "}\n",
    "grid= GridSearchCV(XGBClassifier(objective='binary:logistic'),param_grid, verbose=3)\n",
    "grid.fit(Xtrain,ytrain)"
   ]
  },
  {
   "cell_type": "code",
   "execution_count": 280,
   "id": "checked-taxation",
   "metadata": {},
   "outputs": [
    {
     "data": {
      "text/plain": [
       "0.8387691173760825"
      ]
     },
     "execution_count": 280,
     "metadata": {},
     "output_type": "execute_result"
    }
   ],
   "source": [
    "y_pred_new = grid.predict(Xtest)\n",
    "predictions_new = [round(value) for value in y_pred_new]\n",
    "accuracy_new = accuracy_score(ytest,predictions_new)\n",
    "accuracy_new"
   ]
  },
  {
   "cell_type": "code",
   "execution_count": 282,
   "id": "another-terrace",
   "metadata": {},
   "outputs": [
    {
     "name": "stdout",
     "output_type": "stream",
     "text": [
      "best param=  {' learning_rate': 1, 'max_depth': 5, 'n_estimators': 50, 'verbosity': 0}\n",
      "best score=  0.8430331267157614\n"
     ]
    },
    {
     "data": {
      "image/png": "[encoded data removed]",
      "text/plain": [
       "<Figure size 1008x432 with 3 Axes>"
      ]
     },
     "metadata": {
      "needs_background": "light"
     },
     "output_type": "display_data"
    }
   ],
   "source": [
    "print('best param= ',grid.best_params_)\n",
    "print('best score= ',grid.best_score_)\n",
    "learning_rate =[1,0.5]\n",
    "plot_grid_search(grid.cv_results_, n_estimators,  max_depth, learning_rate, 'N Estimators', 'max_depth', 'learning_rate')"
   ]
  },
  {
   "cell_type": "code",
   "execution_count": 19,
   "id": "israeli-wyoming",
   "metadata": {},
   "outputs": [
    {
     "data": {
      "text/plain": [
       "0.837847798046803"
      ]
     },
     "execution_count": 19,
     "metadata": {},
     "output_type": "execute_result"
    }
   ],
   "source": [
    "clf = LogisticRegression(random_state=0).fit(Xtrain,ytrain)\n",
    "y_pred_new = clf.predict(Xtest)\n",
    "predictions_new = [round(value) for value in y_pred_new]\n",
    "accuracy_new = accuracy_score(ytest,predictions_new)\n",
    "accuracy_new"
   ]
  },
  {
   "cell_type": "code",
   "execution_count": 22,
   "id": "compressed-wilson",
   "metadata": {},
   "outputs": [
    {
     "name": "stdout",
     "output_type": "stream",
     "text": [
      "60.317560212402086\n"
     ]
    }
   ],
   "source": [
    "clf=GaussianNB()\n",
    "cv_res=cross_val_score(clf,Xtrain,ytrain,cv=10)\n",
    "print(cv_res.mean()*100)"
   ]
  },
  {
   "cell_type": "code",
   "execution_count": 23,
   "id": "elegant-sudan",
   "metadata": {},
   "outputs": [
    {
     "name": "stdout",
     "output_type": "stream",
     "text": [
      "80.33846774175298\n"
     ]
    }
   ],
   "source": [
    "clf=DecisionTreeClassifier()\n",
    "cv_res=cross_val_score(clf,Xtrain,ytrain,cv=10)\n",
    "print(cv_res.mean()*100)"
   ]
  },
  {
   "cell_type": "code",
   "execution_count": 24,
   "id": "determined-polyester",
   "metadata": {},
   "outputs": [
    {
     "name": "stdout",
     "output_type": "stream",
     "text": [
      "82.405355050811\n"
     ]
    }
   ],
   "source": [
    "clf=RandomForestClassifier(n_estimators=100)\n",
    "cv_res=cross_val_score(clf,Xtrain,ytrain,cv=10)\n",
    "print(cv_res.mean()*100)"
   ]
  },
  {
   "cell_type": "code",
   "execution_count": 25,
   "id": "threaded-indian",
   "metadata": {},
   "outputs": [
    {
     "name": "stdout",
     "output_type": "stream",
     "text": [
      "Best 0.8311784608302725\n",
      "params {'max_features': 5, 'min_samples_leaf': 25, 'n_estimators': 150}\n"
     ]
    }
   ],
   "source": [
    "clf=RandomForestClassifier()\n",
    "kf=KFold(n_splits=3)\n",
    "max_features=np.array([1,2,3,4,5])\n",
    "n_estimators=np.array([25,50,100,150,200])\n",
    "min_samples_leaf=np.array([25,50,75,100])\n",
    "param_grid=dict(n_estimators=n_estimators,max_features=max_features,min_samples_leaf=min_samples_leaf)\n",
    "grid=GridSearchCV(estimator=clf,param_grid=param_grid,cv=kf)\n",
    "gres=grid.fit(Xtrain,ytrain)\n",
    "print(\"Best\",gres.best_score_)\n",
    "print(\"params\",gres.best_params_)"
   ]
  },
  {
   "cell_type": "raw",
   "id": "defensive-glucose",
   "metadata": {},
   "source": [
    "xgboost classifier is the best for this problem with 83.8% accuracy"
   ]
  }
 ],
 "metadata": {
  "kernelspec": {
   "display_name": "Python 3",
   "language": "python",
   "name": "python3"
  },
  "language_info": {
   "codemirror_mode": {
    "name": "ipython",
    "version": 3
   },
   "file_extension": ".py",
   "mimetype": "text/x-python",
   "name": "python",
   "nbconvert_exporter": "python",
   "pygments_lexer": "ipython3",
   "version": "3.7.1"
  }
 },
 "nbformat": 4,
 "nbformat_minor": 5
}
